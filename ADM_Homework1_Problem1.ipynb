{
 "cells": [
  {
   "cell_type": "markdown",
   "metadata": {},
   "source": [
    "# Homework 1 - Part 1"
   ]
  },
  {
   "cell_type": "code",
   "execution_count": 1,
   "metadata": {},
   "outputs": [],
   "source": [
    "# Used libraries\n",
    "import numpy as np\n",
    "import math\n",
    "import os\n",
    "import random\n",
    "import re\n",
    "import sys"
   ]
  },
  {
   "cell_type": "markdown",
   "metadata": {},
   "source": [
    "## Introduction"
   ]
  },
  {
   "cell_type": "markdown",
   "metadata": {},
   "source": [
    "#### Say 'Hello world' with Python"
   ]
  },
  {
   "cell_type": "code",
   "execution_count": 2,
   "metadata": {},
   "outputs": [
    {
     "name": "stdout",
     "output_type": "stream",
     "text": [
      "Hello, World!\n"
     ]
    }
   ],
   "source": [
    "if __name__ == '__main__':\n",
    "    my_string = \"Hello, World!\"\n",
    "    print(my_string)"
   ]
  },
  {
   "cell_type": "markdown",
   "metadata": {},
   "source": [
    "#### Python if-else"
   ]
  },
  {
   "cell_type": "code",
   "execution_count": 4,
   "metadata": {},
   "outputs": [
    {
     "name": "stdout",
     "output_type": "stream",
     "text": [
      "2\n",
      "Not Weird\n"
     ]
    }
   ],
   "source": [
    "# Python if-else\n",
    "if __name__ == '__main__':\n",
    "    n = int(input().strip())\n",
    "    \n",
    "    # if n is odd or n is in the range of 6 to 20, print Weird\n",
    "    # else print not weird\n",
    "    if ((n%2)!= 0) or ((n>=6) and (n<=20)):\n",
    "        print('Weird')\n",
    "    else:\n",
    "        print('Not Weird')"
   ]
  },
  {
   "cell_type": "markdown",
   "metadata": {},
   "source": [
    "#### Arithmetic operators"
   ]
  },
  {
   "cell_type": "code",
   "execution_count": 5,
   "metadata": {},
   "outputs": [
    {
     "name": "stdout",
     "output_type": "stream",
     "text": [
      "2\n",
      "3\n",
      "5\n",
      "-1\n",
      "6\n"
     ]
    }
   ],
   "source": [
    "if __name__ == '__main__':\n",
    "    a = int(input())\n",
    "    b = int(input())\n",
    "    # execute the three operators (sum, difference, and product)\n",
    "    sumOperator = a + b\n",
    "    difference = a - b\n",
    "    product = a*b\n",
    "    \n",
    "    # print the three operators\n",
    "    print(sumOperator)\n",
    "    print(difference)\n",
    "    print(product)"
   ]
  },
  {
   "cell_type": "markdown",
   "metadata": {},
   "source": [
    "#### Python: division"
   ]
  },
  {
   "cell_type": "code",
   "execution_count": null,
   "metadata": {},
   "outputs": [],
   "source": [
    "if __name__ == '__main__':\n",
    "    a = int(input())\n",
    "    b = int(input())\n",
    "    \n",
    "    # determine the interger division and float division\n",
    "    integerDiv = a//b\n",
    "    floatDiv = a/b\n",
    "    \n",
    "    # print both values\n",
    "    print(integerDiv)\n",
    "    print(floatDiv)"
   ]
  },
  {
   "cell_type": "markdown",
   "metadata": {},
   "source": [
    "#### Loops"
   ]
  },
  {
   "cell_type": "code",
   "execution_count": null,
   "metadata": {},
   "outputs": [],
   "source": [
    "if __name__ == '__main__':\n",
    "    n = int(input())\n",
    "    \n",
    "    # loop over the numbers up till n.\n",
    "    # print the square of n\n",
    "    for i in range(n):\n",
    "        print(i**2)"
   ]
  },
  {
   "cell_type": "markdown",
   "metadata": {},
   "source": [
    "#### Write a function"
   ]
  },
  {
   "cell_type": "code",
   "execution_count": 1,
   "metadata": {},
   "outputs": [
    {
     "name": "stdout",
     "output_type": "stream",
     "text": [
      "2\n",
      "False\n"
     ]
    }
   ],
   "source": [
    "def is_leap(year):\n",
    "    leap = False\n",
    "    \n",
    "    # the year can be evenly divided by zero\n",
    "    if (year % 4) == 0:\n",
    "        leap = True\n",
    "    \n",
    "    # if the year is divided by 100 and not 400, turn back to false\n",
    "    if (year % 100) == 0:\n",
    "        if not (year % 400) == 0:\n",
    "            leap = False\n",
    "        \n",
    "    \n",
    "    return leap\n",
    "\n",
    "# test a year and see if it is a leapyear\n",
    "year = int(input())\n",
    "print(is_leap(year))"
   ]
  },
  {
   "cell_type": "markdown",
   "metadata": {},
   "source": [
    "#### Print function"
   ]
  },
  {
   "cell_type": "code",
   "execution_count": null,
   "metadata": {},
   "outputs": [],
   "source": [
    "if __name__ == '__main__':\n",
    "    n = int(input())\n",
    "    \n",
    "    # print the consecutive numbers on one line\n",
    "    for i in range(n): \n",
    "        print((i + 1),end=\"\") "
   ]
  },
  {
   "cell_type": "markdown",
   "metadata": {},
   "source": [
    "## Basic data types"
   ]
  },
  {
   "cell_type": "markdown",
   "metadata": {},
   "source": [
    "#### List comprehensions"
   ]
  },
  {
   "cell_type": "code",
   "execution_count": 2,
   "metadata": {},
   "outputs": [
    {
     "name": "stdout",
     "output_type": "stream",
     "text": [
      "2\n",
      "2\n",
      "2\n",
      "2\n",
      "[0, 1, 2, 4, 5, 6, 7, 8, 9]\n",
      "[[0, 0, 0], [0, 0, 1], [0, 1, 0], [0, 1, 2], [0, 2, 1], [0, 2, 2], [1, 0, 0], [1, 0, 2], [1, 1, 1], [1, 1, 2], [1, 2, 0], [1, 2, 1], [1, 2, 2], [2, 0, 1], [2, 0, 2], [2, 1, 0], [2, 1, 1], [2, 1, 2], [2, 2, 0], [2, 2, 1], [2, 2, 2]]\n"
     ]
    }
   ],
   "source": [
    "if __name__ == '__main__':\n",
    "    # The given input variables\n",
    "    x = int(input())\n",
    "    y = int(input())\n",
    "    z = int(input())\n",
    "    n = int(input())\n",
    "        \n",
    "    List = []\n",
    "    \n",
    "    # loop over all possible options for the coordinates.\n",
    "    for i in range(x+1):\n",
    "        for j in range(y+1):\n",
    "            for l in range(z+1):\n",
    "                # check if the sum is not equal to l\n",
    "                if (i+j+l) != n:\n",
    "                    List.append([i,j,l])\n",
    "\n",
    "    print(List)\n",
    "    "
   ]
  },
  {
   "cell_type": "markdown",
   "metadata": {},
   "source": [
    "#### Find the runner-up score!"
   ]
  },
  {
   "cell_type": "code",
   "execution_count": 15,
   "metadata": {},
   "outputs": [
    {
     "name": "stdout",
     "output_type": "stream",
     "text": [
      "4\n",
      "5\n"
     ]
    },
    {
     "ename": "ValueError",
     "evalue": "max() arg is an empty sequence",
     "output_type": "error",
     "traceback": [
      "\u001b[1;31m---------------------------------------------------------------------------\u001b[0m",
      "\u001b[1;31mValueError\u001b[0m                                Traceback (most recent call last)",
      "\u001b[1;32m<ipython-input-15-af782046c1fc>\u001b[0m in \u001b[0;36m<module>\u001b[1;34m\u001b[0m\n\u001b[0;32m      6\u001b[0m \u001b[1;33m\u001b[0m\u001b[0m\n\u001b[0;32m      7\u001b[0m     \u001b[1;31m#print second highest value\u001b[0m\u001b[1;33m\u001b[0m\u001b[1;33m\u001b[0m\u001b[1;33m\u001b[0m\u001b[0m\n\u001b[1;32m----> 8\u001b[1;33m     \u001b[0msecValue\u001b[0m \u001b[1;33m=\u001b[0m \u001b[0mmax\u001b[0m\u001b[1;33m(\u001b[0m\u001b[0mi\u001b[0m \u001b[1;32mfor\u001b[0m \u001b[0mi\u001b[0m \u001b[1;32min\u001b[0m \u001b[0mList\u001b[0m \u001b[1;32mif\u001b[0m \u001b[1;33m(\u001b[0m\u001b[0mi\u001b[0m \u001b[1;33m!=\u001b[0m \u001b[0mmax\u001b[0m\u001b[1;33m(\u001b[0m\u001b[0mList\u001b[0m\u001b[1;33m)\u001b[0m\u001b[1;33m)\u001b[0m\u001b[1;33m)\u001b[0m\u001b[1;33m\u001b[0m\u001b[1;33m\u001b[0m\u001b[0m\n\u001b[0m\u001b[0;32m      9\u001b[0m     \u001b[0mprint\u001b[0m\u001b[1;33m(\u001b[0m\u001b[0msecValue\u001b[0m\u001b[1;33m)\u001b[0m\u001b[1;33m\u001b[0m\u001b[1;33m\u001b[0m\u001b[0m\n",
      "\u001b[1;31mValueError\u001b[0m: max() arg is an empty sequence"
     ]
    }
   ],
   "source": [
    "if __name__ == '__main__':\n",
    "    n = int(input())\n",
    "    arr = map(int, input().split())\n",
    "    \n",
    "    List = list(arr)\n",
    "    \n",
    "    #print second highest value\n",
    "    secValue = max(i for i in List if (i != max(List)))\n",
    "    print(secValue)"
   ]
  },
  {
   "cell_type": "markdown",
   "metadata": {},
   "source": [
    "#### Nested lists"
   ]
  },
  {
   "cell_type": "code",
   "execution_count": 58,
   "metadata": {},
   "outputs": [
    {
     "name": "stdout",
     "output_type": "stream",
     "text": [
      "5\n",
      "Harry\n",
      "37.21\n",
      "Berry\n",
      "37.21\n",
      "Tina\n",
      "37.2\n",
      "Akriti\n",
      "41\n",
      "Harsh\n",
      "39\n",
      "Harsh\n"
     ]
    }
   ],
   "source": [
    "from operator import itemgetter\n",
    "\n",
    "if __name__ == '__main__':\n",
    "    records = []\n",
    "    for _ in range(int(input())):\n",
    "        name = input()\n",
    "        score = float(input())\n",
    "        \n",
    "        # save the name and score in a list\n",
    "        records.append([name, score])\n",
    "\n",
    "    # sort the list alphabetically and numerically\n",
    "    newRecords = sorted(records, key=itemgetter(0))\n",
    "    newRecords = sorted(newRecords, key=itemgetter(1))\n",
    "\n",
    "    for i in range(1,len(newRecords),1):\n",
    "    # find the second biggest nr\n",
    "    # if found, save the value and break out of loop\n",
    "        if newRecords[i][1] > newRecords[i-1][1]:\n",
    "            Value = newRecords[i][1]\n",
    "            break\n",
    "\n",
    "    for i in range(len(newRecords)):\n",
    "        # if the value is equal, print name of student\n",
    "        if newRecords[i][1] == Value:\n",
    "            print(newRecords[i][0])\n"
   ]
  },
  {
   "cell_type": "markdown",
   "metadata": {},
   "source": [
    "#### Finding the percentage"
   ]
  },
  {
   "cell_type": "code",
   "execution_count": null,
   "metadata": {},
   "outputs": [],
   "source": [
    "if __name__ == '__main__':\n",
    "    # Function to determine average of a list\n",
    "    def AVG(List):\n",
    "        return sum(List) / len(List)\n",
    "    \n",
    "    n = int(input())\n",
    "    student_marks = {}\n",
    "    for _ in range(n):\n",
    "        name, *line = input().split()\n",
    "        scores = list(map(float, line))\n",
    "        student_marks[name] = scores\n",
    "    query_name = input()\n",
    "    \n",
    "        \n",
    "    avgStudent = AVG(student_marks[query_name])\n",
    "    \n",
    "    #print average with two decimals\n",
    "    print(\"%.2f\" % float(avgStudent))\n",
    "\n"
   ]
  },
  {
   "cell_type": "markdown",
   "metadata": {},
   "source": [
    "#### Lists"
   ]
  },
  {
   "cell_type": "code",
   "execution_count": 4,
   "metadata": {},
   "outputs": [
    {
     "name": "stdout",
     "output_type": "stream",
     "text": [
      "4\n",
      "4\n",
      "4\n",
      "4\n",
      "4\n"
     ]
    }
   ],
   "source": [
    "if __name__ == '__main__':\n",
    "    N = int(input())\n",
    "    # make an empty list\n",
    "    lst = []\n",
    "    # Loop over the N to define the action\n",
    "    for i in range(N):\n",
    "        n = input().split()\n",
    "        action = n[0]\n",
    "        if action == 'insert':\n",
    "            lst.insert(int(n[1]),int(n[2]))\n",
    "        if action == 'print':\n",
    "            print(lst)\n",
    "        if action == 'remove':\n",
    "            lst.remove(int(n[1]))\n",
    "        if action == 'append':\n",
    "            lst.append(int(n[1]))\n",
    "        if action == 'sort':\n",
    "            lst.sort()\n",
    "        if action == 'pop':\n",
    "            lst.pop()\n",
    "        if action == 'reverse':\n",
    "            lst.reverse()"
   ]
  },
  {
   "cell_type": "markdown",
   "metadata": {},
   "source": [
    "#### Tuples"
   ]
  },
  {
   "cell_type": "code",
   "execution_count": null,
   "metadata": {},
   "outputs": [],
   "source": [
    "if __name__ == '__main__':\n",
    "    n = int(input())\n",
    "    integer_list = map(int, input().split())\n",
    "    crTuple = tuple(integer_list)\n",
    "    print(hash(crTuple))"
   ]
  },
  {
   "cell_type": "markdown",
   "metadata": {},
   "source": [
    "## Strings"
   ]
  },
  {
   "cell_type": "markdown",
   "metadata": {},
   "source": [
    "#### sWAP cASE"
   ]
  },
  {
   "cell_type": "code",
   "execution_count": 5,
   "metadata": {},
   "outputs": [
    {
     "name": "stdout",
     "output_type": "stream",
     "text": [
      "hoI\n",
      "HOi\n"
     ]
    }
   ],
   "source": [
    "def swap_case(s):\n",
    "    # swap lower to upper case and vice versa\n",
    "    return s.swapcase()\n",
    "\n",
    "if __name__ == '__main__':\n",
    "    s = input()\n",
    "    result = swap_case(s)\n",
    "    print(result)"
   ]
  },
  {
   "cell_type": "markdown",
   "metadata": {},
   "source": [
    "#### String split and join"
   ]
  },
  {
   "cell_type": "code",
   "execution_count": null,
   "metadata": {},
   "outputs": [],
   "source": [
    "def split_and_join(line):\n",
    "    # split the line\n",
    "    splitLine = line.split(\" \")\n",
    "    # join the line\n",
    "    joinLine = \"-\".join(splitLine)\n",
    "    return joinLine \n",
    "\n",
    "if __name__ == '__main__':\n",
    "    line = input()\n",
    "    result = split_and_join(line)\n",
    "    print(result)"
   ]
  },
  {
   "cell_type": "markdown",
   "metadata": {},
   "source": [
    "#### What's your name?"
   ]
  },
  {
   "cell_type": "code",
   "execution_count": null,
   "metadata": {},
   "outputs": [],
   "source": [
    "def print_full_name(first, last):\n",
    "    return print(\"Hello \" + first + \" \" + last + \"! You just delved into python.\")\n",
    "\n",
    "if __name__ == '__main__':\n",
    "    first_name = input()\n",
    "    last_name = input()\n",
    "    print_full_name(first_name, last_name)"
   ]
  },
  {
   "cell_type": "markdown",
   "metadata": {},
   "source": [
    "#### Mutations"
   ]
  },
  {
   "cell_type": "code",
   "execution_count": null,
   "metadata": {},
   "outputs": [],
   "source": [
    "def mutate_string(string, position, character):\n",
    "    # change the string\n",
    "    newString = string[:position] + character + string[(position+1):]\n",
    "    return newString\n",
    "\n",
    "if __name__ == '__main__':\n",
    "    s = input()\n",
    "    i, c = input().split()\n",
    "    s_new = mutate_string(s, int(i), c)\n",
    "    print(s_new)"
   ]
  },
  {
   "cell_type": "markdown",
   "metadata": {},
   "source": [
    "#### Find a string"
   ]
  },
  {
   "cell_type": "code",
   "execution_count": null,
   "metadata": {},
   "outputs": [],
   "source": [
    "def count_substring(string, sub_string):\n",
    "        counter = 0 # initialize counter\n",
    "        subLen = len(sub_string) # determine length of sub string\n",
    "        for i in range(len(string)):\n",
    "            if string[i:i+subLen] == sub_string:\n",
    "                counter += 1\n",
    "        return counter\n",
    "\n",
    "        \n",
    "if __name__ == '__main__':\n",
    "    string = input().strip()\n",
    "    sub_string = input().strip()\n",
    "    \n",
    "    count = count_substring(string, sub_string)\n",
    "    print(count)"
   ]
  },
  {
   "cell_type": "markdown",
   "metadata": {},
   "source": [
    "#### String validators"
   ]
  },
  {
   "cell_type": "code",
   "execution_count": null,
   "metadata": {},
   "outputs": [],
   "source": [
    "if __name__ == '__main__':\n",
    "    s = input()\n",
    "    lst = list(s) # make a list of the input\n",
    "    # initialize booleans to check if true or not\n",
    "    alphaNum = False\n",
    "    alphaBet = False\n",
    "    digits = False\n",
    "    lowCase = False\n",
    "    upCase = False\n",
    "    \n",
    "    # check per symbol what it is\n",
    "    for i in lst:\n",
    "        if i.isalnum():\n",
    "            alphaNum = True\n",
    "        if i.isalpha():\n",
    "            alphaBet = True\n",
    "        if i.isdigit():\n",
    "            digits = True\n",
    "        if i.islower():\n",
    "            lowCase = True\n",
    "        if i.isupper():\n",
    "            upCase = True\n",
    "    \n",
    "    # Print the given statements\n",
    "    print(alphaNum)\n",
    "    print(alphaBet)\n",
    "    print(digits)\n",
    "    print(lowCase)\n",
    "    print(upCase)"
   ]
  },
  {
   "cell_type": "markdown",
   "metadata": {},
   "source": [
    "#### Text alignment"
   ]
  },
  {
   "cell_type": "code",
   "execution_count": 25,
   "metadata": {},
   "outputs": [
    {
     "name": "stdout",
     "output_type": "stream",
     "text": [
      "5\n",
      "    H    \n",
      "   HHH   \n",
      "  HHHHH  \n",
      " HHHHHHH \n",
      "HHHHHHHHH\n",
      "  HHHHH               HHHHH  \n",
      "  HHHHH               HHHHH  \n",
      "  HHHHH               HHHHH  \n",
      "  HHHHH               HHHHH  \n",
      "  HHHHH               HHHHH  \n",
      "  HHHHH               HHHHH  \n",
      "  HHHHHHHHHHHHHHHHHHHHHHHHH  \n",
      "  HHHHHHHHHHHHHHHHHHHHHHHHH  \n",
      "  HHHHHHHHHHHHHHHHHHHHHHHHH  \n",
      "  HHHHH               HHHHH  \n",
      "  HHHHH               HHHHH  \n",
      "  HHHHH               HHHHH  \n",
      "  HHHHH               HHHHH  \n",
      "  HHHHH               HHHHH  \n",
      "  HHHHH               HHHHH  \n",
      "                    HHHHHHHHH\n",
      "                     HHHHHHH \n",
      "                      HHHHH  \n",
      "                       HHH   \n",
      "                        H    \n"
     ]
    },
    {
     "data": {
      "text/plain": [
       "[None, None, None, None, None]"
      ]
     },
     "execution_count": 25,
     "metadata": {},
     "output_type": "execute_result"
    }
   ],
   "source": [
    "## I used the discussion page of the website, since I did not understand the aim of the assignment.\n",
    "\n",
    "from math import ceil\n",
    "\n",
    "T = int(input()) # Thickness\n",
    "c = 'H'          # Character\n",
    "\n",
    "#Upper Rectangel\n",
    "([print (x) for x in [(c*i).rjust(T-1)+c+(c*i).ljust(T-1) for i in range(T)]])\n",
    "\n",
    "#Upper Stand\n",
    "([print (x) for x in [((c*T).center(2*T-1)+(\" \" * (2*T+1))+(c*T).center(2*T-1)) for i in range(T+1)]])\n",
    "\n",
    "#Bridge\n",
    "([print (x) for x in [(c*(5*T)).center((6*T)-1) for i in range(int(ceil(T/2)))]])\n",
    "\n",
    "#Lower Stand\n",
    "([print (x) for x in [((c*T).center(2*T-1)+(' '  * (2*T+1))+(c*T).center(2*T-1)) for i in range(T+1)]])\n",
    "\n",
    "#Lower Rectangel\n",
    "# acually the same as the upper, but with a reversed range(T-1,-1,-1)\n",
    "([print (x) for x in [(' ' * (4*T))+(c*i).rjust(T-1)+c+(c*i).ljust(T-1) for i in range(T-1,-1,-1)]])"
   ]
  },
  {
   "cell_type": "markdown",
   "metadata": {},
   "source": [
    "#### Text wrap"
   ]
  },
  {
   "cell_type": "code",
   "execution_count": 2,
   "metadata": {},
   "outputs": [
    {
     "name": "stdout",
     "output_type": "stream",
     "text": [
      "jajajaja\n",
      "3\n",
      "jaj\n",
      "aja\n",
      "ja\n"
     ]
    }
   ],
   "source": [
    "import textwrap\n",
    "\n",
    "def wrap(string, max_width):\n",
    "    # returns the string in sections with given width\n",
    "    return textwrap.fill(string, max_width)\n",
    "    \n",
    "if __name__ == '__main__':\n",
    "    string, max_width = input(), int(input())\n",
    "    result = wrap(string, max_width)\n",
    "    print(result)"
   ]
  },
  {
   "cell_type": "markdown",
   "metadata": {},
   "source": [
    "#### Designer door mat"
   ]
  },
  {
   "cell_type": "code",
   "execution_count": 18,
   "metadata": {},
   "outputs": [
    {
     "name": "stdout",
     "output_type": "stream",
     "text": [
      "5 21\n",
      "---------.|.---------\n",
      "------.|..|..|.------\n",
      "-------WELCOME-------\n",
      "------.|..|..|.------\n",
      "---------.|.---------\n"
     ]
    }
   ],
   "source": [
    "# Enter your code here. Read input from STDIN. Print output to STDOUT\n",
    "N, M = map(int,input().split()) # hight, width\n",
    "rep = '.|.'\n",
    "\n",
    "# the first half of the doormat\n",
    "for i in range(int((N-1)/2)):\n",
    "    print(((2*i+1)*rep).center(M, '-'))\n",
    "\n",
    "# print the welcome\n",
    "print('WELCOME'.center(M,'-'))\n",
    "\n",
    "# print second half of the doormat\n",
    "for i in range(int((N-1)/2)-1,-1,-1):\n",
    "    print(((2*i+1)*rep).center(M, '-'))"
   ]
  },
  {
   "cell_type": "markdown",
   "metadata": {},
   "source": [
    "#### string formatting"
   ]
  },
  {
   "cell_type": "code",
   "execution_count": 19,
   "metadata": {},
   "outputs": [
    {
     "name": "stdout",
     "output_type": "stream",
     "text": [
      "11\n",
      "   1    1    1    1\n",
      "   2    2    2   10\n",
      "   3    3    3   11\n",
      "   4    4    4  100\n",
      "   5    5    5  101\n",
      "   6    6    6  110\n",
      "   7    7    7  111\n",
      "   8   10    8 1000\n",
      "   9   11    9 1001\n",
      "  10   12    A 1010\n",
      "  11   13    B 1011\n"
     ]
    }
   ],
   "source": [
    "def print_formatted(number):\n",
    "    \n",
    "    # for outline\n",
    "    d = len(bin(number)[2:])\n",
    "    \n",
    "    # loop over the given number\n",
    "    # the [2:] to retrieve correct number from given info\n",
    "    for i in range(1, number+1):\n",
    "        octal = oct(i)[2:]\n",
    "        hexadec = hex(i)[2:].upper()\n",
    "        binar = bin(i)[2:]\n",
    "        # print the numbers\n",
    "        # outline to the right\n",
    "        print(str(i).rjust(d), octal.rjust(d),\n",
    "              hexadec.rjust(d), binar.rjust(d))\n",
    "\n",
    "if __name__ == '__main__':\n",
    "    n = int(input())\n",
    "    print_formatted(n)"
   ]
  },
  {
   "cell_type": "markdown",
   "metadata": {},
   "source": [
    "#### Alphabet rangoli"
   ]
  },
  {
   "cell_type": "code",
   "execution_count": 12,
   "metadata": {},
   "outputs": [
    {
     "name": "stdout",
     "output_type": "stream",
     "text": [
      "c\n",
      "----c----\n",
      "--c-b-c--\n",
      "c-b-a-b-c\n",
      "--c-b-c--\n",
      "----c----\n"
     ]
    }
   ],
   "source": [
    "from string import ascii_lowercase as aph\n",
    "\n",
    "def print_rangoli(size):\n",
    "    # loop over twice the size to make the figure go back and forth\n",
    "    for i in range(1,2*size):\n",
    "        # make list with used letters\n",
    "        letter = aph[abs(size-i):size]\n",
    "        letter = letter[-1:0:-1] + letter\n",
    "        # print the letters with '-'\n",
    "        print('-'.join(letter).center(4*size-3,'-'))    \n",
    "    \n",
    "    \n",
    "if __name__ == '__main__':\n",
    "    n = int(input())\n",
    "    print_rangoli(n)"
   ]
  },
  {
   "cell_type": "markdown",
   "metadata": {},
   "source": [
    "#### Capitalize!"
   ]
  },
  {
   "cell_type": "code",
   "execution_count": 14,
   "metadata": {},
   "outputs": [
    {
     "ename": "KeyError",
     "evalue": "'OUTPUT_PATH'",
     "output_type": "error",
     "traceback": [
      "\u001b[1;31m---------------------------------------------------------------------------\u001b[0m",
      "\u001b[1;31mKeyError\u001b[0m                                  Traceback (most recent call last)",
      "\u001b[1;32m<ipython-input-14-a63d538eae3f>\u001b[0m in \u001b[0;36m<module>\u001b[1;34m\u001b[0m\n\u001b[0;32m     22\u001b[0m \u001b[1;33m\u001b[0m\u001b[0m\n\u001b[0;32m     23\u001b[0m \u001b[1;32mif\u001b[0m \u001b[0m__name__\u001b[0m \u001b[1;33m==\u001b[0m \u001b[1;34m'__main__'\u001b[0m\u001b[1;33m:\u001b[0m\u001b[1;33m\u001b[0m\u001b[1;33m\u001b[0m\u001b[0m\n\u001b[1;32m---> 24\u001b[1;33m     \u001b[0mfptr\u001b[0m \u001b[1;33m=\u001b[0m \u001b[0mopen\u001b[0m\u001b[1;33m(\u001b[0m\u001b[0mos\u001b[0m\u001b[1;33m.\u001b[0m\u001b[0menviron\u001b[0m\u001b[1;33m[\u001b[0m\u001b[1;34m'OUTPUT_PATH'\u001b[0m\u001b[1;33m]\u001b[0m\u001b[1;33m,\u001b[0m \u001b[1;34m'w'\u001b[0m\u001b[1;33m)\u001b[0m\u001b[1;33m\u001b[0m\u001b[1;33m\u001b[0m\u001b[0m\n\u001b[0m\u001b[0;32m     25\u001b[0m \u001b[1;33m\u001b[0m\u001b[0m\n\u001b[0;32m     26\u001b[0m     \u001b[0ms\u001b[0m \u001b[1;33m=\u001b[0m \u001b[0minput\u001b[0m\u001b[1;33m(\u001b[0m\u001b[1;33m)\u001b[0m\u001b[1;33m\u001b[0m\u001b[1;33m\u001b[0m\u001b[0m\n",
      "\u001b[1;32m~\\anaconda3\\lib\\os.py\u001b[0m in \u001b[0;36m__getitem__\u001b[1;34m(self, key)\u001b[0m\n\u001b[0;32m    673\u001b[0m         \u001b[1;32mexcept\u001b[0m \u001b[0mKeyError\u001b[0m\u001b[1;33m:\u001b[0m\u001b[1;33m\u001b[0m\u001b[1;33m\u001b[0m\u001b[0m\n\u001b[0;32m    674\u001b[0m             \u001b[1;31m# raise KeyError with the original key value\u001b[0m\u001b[1;33m\u001b[0m\u001b[1;33m\u001b[0m\u001b[1;33m\u001b[0m\u001b[0m\n\u001b[1;32m--> 675\u001b[1;33m             \u001b[1;32mraise\u001b[0m \u001b[0mKeyError\u001b[0m\u001b[1;33m(\u001b[0m\u001b[0mkey\u001b[0m\u001b[1;33m)\u001b[0m \u001b[1;32mfrom\u001b[0m \u001b[1;32mNone\u001b[0m\u001b[1;33m\u001b[0m\u001b[1;33m\u001b[0m\u001b[0m\n\u001b[0m\u001b[0;32m    676\u001b[0m         \u001b[1;32mreturn\u001b[0m \u001b[0mself\u001b[0m\u001b[1;33m.\u001b[0m\u001b[0mdecodevalue\u001b[0m\u001b[1;33m(\u001b[0m\u001b[0mvalue\u001b[0m\u001b[1;33m)\u001b[0m\u001b[1;33m\u001b[0m\u001b[1;33m\u001b[0m\u001b[0m\n\u001b[0;32m    677\u001b[0m \u001b[1;33m\u001b[0m\u001b[0m\n",
      "\u001b[1;31mKeyError\u001b[0m: 'OUTPUT_PATH'"
     ]
    }
   ],
   "source": [
    "#!/bin/python3\n",
    "\n",
    "import math\n",
    "import os\n",
    "import random\n",
    "import re\n",
    "import sys\n",
    "\n",
    "# Complete the solve function below.\n",
    "def solve(s):\n",
    "    # make an empty list\n",
    "    lst = []\n",
    "    # split the name on the space\n",
    "    name = s.split(\" \")\n",
    "    # loop over the name list and return with capital letter\n",
    "    # add name to list\n",
    "    for i in range(0, len(name)):\n",
    "        lst.append(name[i].capitalize())\n",
    "    \n",
    "    return \" \".join(lst) # make one name of the list\n",
    "    \n",
    "    \n",
    "if __name__ == '__main__':\n",
    "    fptr = open(os.environ['OUTPUT_PATH'], 'w')\n",
    "\n",
    "    s = input()\n",
    "\n",
    "    result = solve(s)\n",
    "\n",
    "    fptr.write(result + '\\n')\n",
    "\n",
    "    fptr.close()"
   ]
  },
  {
   "cell_type": "markdown",
   "metadata": {},
   "source": [
    "#### The minion game"
   ]
  },
  {
   "cell_type": "code",
   "execution_count": 17,
   "metadata": {},
   "outputs": [
    {
     "name": "stdout",
     "output_type": "stream",
     "text": [
      "SEASICK\n",
      "Draw\n"
     ]
    }
   ],
   "source": [
    "def minion_game(string):\n",
    "    stuartPoints =0\n",
    "    kevinPoints =0\n",
    "    vowls = [\"A\",\"E\",\"I\",\"O\",\"U\"]\n",
    "    # loop over the letters in the string\n",
    "    for i in range(len(string)):\n",
    "        # if it is a vowel, the words following will start with vowel\n",
    "        # kevin gets points\n",
    "        if string[i] in vowls:\n",
    "            kevinPoints += len(string)-i\n",
    "        # else it starts with consonant, so stuart gets point\n",
    "        else:\n",
    "            stuartPoints += len(string)-i\n",
    "    # if stuart has more points than Kevin, stuart wins\n",
    "    if stuartPoints>kevinPoints:\n",
    "        print(\"Stuart {}\".format(stuartPoints))\n",
    "    # equal is a draw\n",
    "    elif(stuartPoints==kevinPoints):\n",
    "        print(\"Draw\")\n",
    "    else:\n",
    "        print(\"Kevin {}\".format(kevinPoints))\n",
    "    \n",
    "\n",
    "if __name__ == '__main__':\n",
    "    s = input()\n",
    "    minion_game(s)"
   ]
  },
  {
   "cell_type": "markdown",
   "metadata": {},
   "source": [
    "#### Merge the tools"
   ]
  },
  {
   "cell_type": "code",
   "execution_count": 18,
   "metadata": {},
   "outputs": [
    {
     "name": "stdout",
     "output_type": "stream",
     "text": [
      "BABABDANR\n",
      "4\n",
      "BA\n",
      "BDAN\n"
     ]
    },
    {
     "ename": "IndexError",
     "evalue": "string index out of range",
     "output_type": "error",
     "traceback": [
      "\u001b[1;31m---------------------------------------------------------------------------\u001b[0m",
      "\u001b[1;31mIndexError\u001b[0m                                Traceback (most recent call last)",
      "\u001b[1;32m<ipython-input-18-c04822f6aaea>\u001b[0m in \u001b[0;36m<module>\u001b[1;34m\u001b[0m\n\u001b[0;32m     19\u001b[0m \u001b[1;32mif\u001b[0m \u001b[0m__name__\u001b[0m \u001b[1;33m==\u001b[0m \u001b[1;34m'__main__'\u001b[0m\u001b[1;33m:\u001b[0m\u001b[1;33m\u001b[0m\u001b[1;33m\u001b[0m\u001b[0m\n\u001b[0;32m     20\u001b[0m     \u001b[0mstring\u001b[0m\u001b[1;33m,\u001b[0m \u001b[0mk\u001b[0m \u001b[1;33m=\u001b[0m \u001b[0minput\u001b[0m\u001b[1;33m(\u001b[0m\u001b[1;33m)\u001b[0m\u001b[1;33m,\u001b[0m \u001b[0mint\u001b[0m\u001b[1;33m(\u001b[0m\u001b[0minput\u001b[0m\u001b[1;33m(\u001b[0m\u001b[1;33m)\u001b[0m\u001b[1;33m)\u001b[0m\u001b[1;33m\u001b[0m\u001b[1;33m\u001b[0m\u001b[0m\n\u001b[1;32m---> 21\u001b[1;33m     \u001b[0mmerge_the_tools\u001b[0m\u001b[1;33m(\u001b[0m\u001b[0mstring\u001b[0m\u001b[1;33m,\u001b[0m \u001b[0mk\u001b[0m\u001b[1;33m)\u001b[0m\u001b[1;33m\u001b[0m\u001b[1;33m\u001b[0m\u001b[0m\n\u001b[0m",
      "\u001b[1;32m<ipython-input-18-c04822f6aaea>\u001b[0m in \u001b[0;36mmerge_the_tools\u001b[1;34m(string, k)\u001b[0m\n\u001b[0;32m      9\u001b[0m         \u001b[1;32mfor\u001b[0m \u001b[0mj\u001b[0m \u001b[1;32min\u001b[0m \u001b[0mrange\u001b[0m\u001b[1;33m(\u001b[0m\u001b[0mi\u001b[0m\u001b[1;33m,\u001b[0m\u001b[0mnr\u001b[0m\u001b[1;33m)\u001b[0m\u001b[1;33m:\u001b[0m\u001b[1;33m\u001b[0m\u001b[1;33m\u001b[0m\u001b[0m\n\u001b[0;32m     10\u001b[0m             \u001b[1;31m# see if the specific letter is already a part of that string\u001b[0m\u001b[1;33m\u001b[0m\u001b[1;33m\u001b[0m\u001b[1;33m\u001b[0m\u001b[0m\n\u001b[1;32m---> 11\u001b[1;33m             \u001b[1;32mif\u001b[0m \u001b[0mstring\u001b[0m\u001b[1;33m[\u001b[0m\u001b[0mj\u001b[0m\u001b[1;33m]\u001b[0m \u001b[1;32mnot\u001b[0m \u001b[1;32min\u001b[0m \u001b[0mlst\u001b[0m\u001b[1;33m:\u001b[0m\u001b[1;33m\u001b[0m\u001b[1;33m\u001b[0m\u001b[0m\n\u001b[0m\u001b[0;32m     12\u001b[0m                 \u001b[0mlst\u001b[0m\u001b[1;33m.\u001b[0m\u001b[0mappend\u001b[0m\u001b[1;33m(\u001b[0m\u001b[0mstring\u001b[0m\u001b[1;33m[\u001b[0m\u001b[0mj\u001b[0m\u001b[1;33m]\u001b[0m\u001b[1;33m)\u001b[0m\u001b[1;33m\u001b[0m\u001b[1;33m\u001b[0m\u001b[0m\n\u001b[0;32m     13\u001b[0m         \u001b[0mprint\u001b[0m\u001b[1;33m(\u001b[0m\u001b[1;34m\"\"\u001b[0m\u001b[1;33m.\u001b[0m\u001b[0mjoin\u001b[0m\u001b[1;33m(\u001b[0m\u001b[0mlst\u001b[0m\u001b[1;33m)\u001b[0m\u001b[1;33m)\u001b[0m\u001b[1;33m\u001b[0m\u001b[1;33m\u001b[0m\u001b[0m\n",
      "\u001b[1;31mIndexError\u001b[0m: string index out of range"
     ]
    }
   ],
   "source": [
    "# Used discussion to understand the aim of the exercise\n",
    "\n",
    "def merge_the_tools(string, k):\n",
    "    lngthStr = len(string)     # determine length of string\n",
    "    ratio = lngthStr / k     # determine how many pieces are needed\n",
    "    nr = k # initialize\n",
    "    lst = [] # make empty list to store \n",
    "    # loop over the pieces of the string\n",
    "    for i in range(0,lngthStr,k):\n",
    "        # loop over the letters in the string\n",
    "        for j in range(i,nr):\n",
    "            # see if the specific letter is already a part of that string\n",
    "            if string[j] not in lst:\n",
    "                lst.append(string[j])\n",
    "        print(\"\".join(lst))\n",
    "        # empty list again so it can be used for next iteration\n",
    "        lst.clear()\n",
    "        # add k to nr so it can be used for next iteration\n",
    "        nr += k\n",
    "\n",
    "if __name__ == '__main__':\n",
    "    string, k = input(), int(input())\n",
    "    merge_the_tools(string, k)"
   ]
  },
  {
   "cell_type": "markdown",
   "metadata": {},
   "source": [
    "## Sets"
   ]
  },
  {
   "cell_type": "markdown",
   "metadata": {},
   "source": [
    "#### Introduction to sets"
   ]
  },
  {
   "cell_type": "code",
   "execution_count": 22,
   "metadata": {},
   "outputs": [
    {
     "name": "stdout",
     "output_type": "stream",
     "text": [
      "2\n",
      "2 2\n",
      "2.0\n"
     ]
    }
   ],
   "source": [
    "def average(array):\n",
    "    # determine the set\n",
    "    setArr = set(array)\n",
    "    # determine number of plants\n",
    "    nr = len(setArr)\n",
    "    # determine sum of array\n",
    "    sumArr = sum(setArr)\n",
    "    #return result\n",
    "    return sumArr/nr\n",
    "    \n",
    "if __name__ == '__main__':\n",
    "    n = int(input())\n",
    "    arr = list(map(int, input().split()))\n",
    "    result = average(arr)\n",
    "    print(result)"
   ]
  },
  {
   "cell_type": "markdown",
   "metadata": {},
   "source": [
    "#### No Idea!"
   ]
  },
  {
   "cell_type": "code",
   "execution_count": 8,
   "metadata": {},
   "outputs": [
    {
     "name": "stdout",
     "output_type": "stream",
     "text": [
      "3 2\n",
      "1 5 3\n",
      "3 1\n",
      "5 7\n",
      "1\n"
     ]
    }
   ],
   "source": [
    "# Enter your code here. Read input from STDIN. Print output to STDOUT\n",
    "def calculate_happy(arrayn, setA, setB):\n",
    "    happyScore = 0 # initialize happyness score\n",
    "    # loop over the elements in the array m\n",
    "    for i in arrayn:\n",
    "        if i in setA: # check if part of set A\n",
    "            happyScore += 1\n",
    "        if i in setB: # check if part of set B\n",
    "            happyScore -= 1\n",
    "    \n",
    "    return happyScore\n",
    "\n",
    "n1, m = map(int, input().split())\n",
    "arrayn = list(map(int, input().split()))\n",
    "setA = set(map(int, input().split()))\n",
    "setB = set(map(int, input().split()))\n",
    "\n",
    "# print the happy score\n",
    "print(calculate_happy(arrayn, setA, setB))\n"
   ]
  },
  {
   "cell_type": "markdown",
   "metadata": {},
   "source": [
    "#### Symmetric difference"
   ]
  },
  {
   "cell_type": "code",
   "execution_count": 23,
   "metadata": {},
   "outputs": [
    {
     "name": "stdout",
     "output_type": "stream",
     "text": [
      "4\n",
      "2 4 5 9\n",
      "4\n",
      "2 4 11 12\n",
      "5\n",
      "9\n",
      "11\n",
      "12\n"
     ]
    }
   ],
   "source": [
    "def find_difference(listM, listN):\n",
    "    # find the differences between the two sets\n",
    "    diffN = listM.difference(listN) \n",
    "    diffM = listN.difference(listM)\n",
    "    # make one set of them\n",
    "    unionNM = diffN.union(diffM)\n",
    "    \n",
    "    # order them in correct order\n",
    "    sortNM = sorted(unionNM)\n",
    "    # print the elements\n",
    "    for i in sortNM:\n",
    "        print(i)\n",
    "    \n",
    "\n",
    "m = map(int, input().split()) # 4\n",
    "listM = set(map(int, input().split())) #2 4 5 9\n",
    "n = map(int, input().split()) # 4\n",
    "listN = set(map(int, input().split())) # 2 4 11 12\n",
    "\n",
    "find_difference(listM, listN)"
   ]
  },
  {
   "cell_type": "markdown",
   "metadata": {},
   "source": [
    "#### Set .add()"
   ]
  },
  {
   "cell_type": "code",
   "execution_count": 25,
   "metadata": {},
   "outputs": [
    {
     "ename": "KeyboardInterrupt",
     "evalue": "Interrupted by user",
     "output_type": "error",
     "traceback": [
      "\u001b[1;31m---------------------------------------------------------------------------\u001b[0m",
      "\u001b[1;31mKeyboardInterrupt\u001b[0m                         Traceback (most recent call last)",
      "\u001b[1;32m<ipython-input-25-e35e43bb2623>\u001b[0m in \u001b[0;36m<module>\u001b[1;34m\u001b[0m\n\u001b[1;32m----> 1\u001b[1;33m \u001b[0mn\u001b[0m \u001b[1;33m=\u001b[0m \u001b[0mint\u001b[0m\u001b[1;33m(\u001b[0m\u001b[0minput\u001b[0m\u001b[1;33m(\u001b[0m\u001b[1;33m)\u001b[0m\u001b[1;33m)\u001b[0m\u001b[1;33m\u001b[0m\u001b[1;33m\u001b[0m\u001b[0m\n\u001b[0m\u001b[0;32m      2\u001b[0m \u001b[1;31m#make an empty set\u001b[0m\u001b[1;33m\u001b[0m\u001b[1;33m\u001b[0m\u001b[1;33m\u001b[0m\u001b[0m\n\u001b[0;32m      3\u001b[0m \u001b[0mcountCountries\u001b[0m \u001b[1;33m=\u001b[0m \u001b[0mset\u001b[0m\u001b[1;33m(\u001b[0m\u001b[1;33m)\u001b[0m\u001b[1;33m\u001b[0m\u001b[1;33m\u001b[0m\u001b[0m\n\u001b[0;32m      4\u001b[0m \u001b[1;32mfor\u001b[0m \u001b[0m_\u001b[0m \u001b[1;32min\u001b[0m \u001b[0mrange\u001b[0m\u001b[1;33m(\u001b[0m\u001b[0mn\u001b[0m\u001b[1;33m)\u001b[0m\u001b[1;33m:\u001b[0m\u001b[1;33m\u001b[0m\u001b[1;33m\u001b[0m\u001b[0m\n\u001b[0;32m      5\u001b[0m     \u001b[0mcountCountries\u001b[0m\u001b[1;33m.\u001b[0m\u001b[0madd\u001b[0m\u001b[1;33m(\u001b[0m\u001b[0minput\u001b[0m\u001b[1;33m(\u001b[0m\u001b[1;33m)\u001b[0m\u001b[1;33m)\u001b[0m\u001b[1;33m\u001b[0m\u001b[1;33m\u001b[0m\u001b[0m\n",
      "\u001b[1;32m~\\anaconda3\\lib\\site-packages\\ipykernel\\kernelbase.py\u001b[0m in \u001b[0;36mraw_input\u001b[1;34m(self, prompt)\u001b[0m\n\u001b[0;32m    858\u001b[0m                 \u001b[1;34m\"raw_input was called, but this frontend does not support input requests.\"\u001b[0m\u001b[1;33m\u001b[0m\u001b[1;33m\u001b[0m\u001b[0m\n\u001b[0;32m    859\u001b[0m             )\n\u001b[1;32m--> 860\u001b[1;33m         return self._input_request(str(prompt),\n\u001b[0m\u001b[0;32m    861\u001b[0m             \u001b[0mself\u001b[0m\u001b[1;33m.\u001b[0m\u001b[0m_parent_ident\u001b[0m\u001b[1;33m,\u001b[0m\u001b[1;33m\u001b[0m\u001b[1;33m\u001b[0m\u001b[0m\n\u001b[0;32m    862\u001b[0m             \u001b[0mself\u001b[0m\u001b[1;33m.\u001b[0m\u001b[0m_parent_header\u001b[0m\u001b[1;33m,\u001b[0m\u001b[1;33m\u001b[0m\u001b[1;33m\u001b[0m\u001b[0m\n",
      "\u001b[1;32m~\\anaconda3\\lib\\site-packages\\ipykernel\\kernelbase.py\u001b[0m in \u001b[0;36m_input_request\u001b[1;34m(self, prompt, ident, parent, password)\u001b[0m\n\u001b[0;32m    902\u001b[0m             \u001b[1;32mexcept\u001b[0m \u001b[0mKeyboardInterrupt\u001b[0m\u001b[1;33m:\u001b[0m\u001b[1;33m\u001b[0m\u001b[1;33m\u001b[0m\u001b[0m\n\u001b[0;32m    903\u001b[0m                 \u001b[1;31m# re-raise KeyboardInterrupt, to truncate traceback\u001b[0m\u001b[1;33m\u001b[0m\u001b[1;33m\u001b[0m\u001b[1;33m\u001b[0m\u001b[0m\n\u001b[1;32m--> 904\u001b[1;33m                 \u001b[1;32mraise\u001b[0m \u001b[0mKeyboardInterrupt\u001b[0m\u001b[1;33m(\u001b[0m\u001b[1;34m\"Interrupted by user\"\u001b[0m\u001b[1;33m)\u001b[0m \u001b[1;32mfrom\u001b[0m \u001b[1;32mNone\u001b[0m\u001b[1;33m\u001b[0m\u001b[1;33m\u001b[0m\u001b[0m\n\u001b[0m\u001b[0;32m    905\u001b[0m             \u001b[1;32mexcept\u001b[0m \u001b[0mException\u001b[0m \u001b[1;32mas\u001b[0m \u001b[0me\u001b[0m\u001b[1;33m:\u001b[0m\u001b[1;33m\u001b[0m\u001b[1;33m\u001b[0m\u001b[0m\n\u001b[0;32m    906\u001b[0m                 \u001b[0mself\u001b[0m\u001b[1;33m.\u001b[0m\u001b[0mlog\u001b[0m\u001b[1;33m.\u001b[0m\u001b[0mwarning\u001b[0m\u001b[1;33m(\u001b[0m\u001b[1;34m\"Invalid Message:\"\u001b[0m\u001b[1;33m,\u001b[0m \u001b[0mexc_info\u001b[0m\u001b[1;33m=\u001b[0m\u001b[1;32mTrue\u001b[0m\u001b[1;33m)\u001b[0m\u001b[1;33m\u001b[0m\u001b[1;33m\u001b[0m\u001b[0m\n",
      "\u001b[1;31mKeyboardInterrupt\u001b[0m: Interrupted by user"
     ]
    }
   ],
   "source": [
    "n = int(input())\n",
    "#make an empty set\n",
    "countCountries = set()\n",
    "for _ in range(n):\n",
    "    countCountries.add(input())\n",
    "\n",
    "# print the answer\n",
    "print(len(countCountries))"
   ]
  },
  {
   "cell_type": "markdown",
   "metadata": {},
   "source": [
    "#### Set .discard(), .remove() & .pop"
   ]
  },
  {
   "cell_type": "code",
   "execution_count": 4,
   "metadata": {},
   "outputs": [
    {
     "name": "stdout",
     "output_type": "stream",
     "text": [
      "3\n",
      "1 2 3\n",
      "2\n",
      "pop\n",
      "pop\n",
      "3\n"
     ]
    }
   ],
   "source": [
    "if __name__ == '__main__':\n",
    "    n = int(input())\n",
    "    setN = set(map(int, input().split()))\n",
    "    N = int(input())\n",
    "    \n",
    "    # Loop over N to define the action\n",
    "    for i in range(N):\n",
    "        act = input().split()\n",
    "        action = act[0]\n",
    "        if action == 'pop':\n",
    "            setN.pop()\n",
    "        if action == 'remove':\n",
    "            setN.remove(int(act[1]))\n",
    "        if action == 'discard':\n",
    "            setN.discard(int(act[1]))\n",
    "        \n",
    "    print(sum(setN))\n",
    "    "
   ]
  },
  {
   "cell_type": "markdown",
   "metadata": {},
   "source": [
    "#### Set .union() operator"
   ]
  },
  {
   "cell_type": "code",
   "execution_count": 6,
   "metadata": {},
   "outputs": [
    {
     "name": "stdout",
     "output_type": "stream",
     "text": [
      "4\n",
      "1 2 3 4\n",
      "4\n",
      "1 2 3 6\n",
      "5\n"
     ]
    }
   ],
   "source": [
    "def nrSubscription(setA, setB):\n",
    "    # determine union of two sets\n",
    "    setTot = setA.union(setB)\n",
    "    # return the length of the set\n",
    "    return len(setTot)\n",
    "\n",
    "nrEnglish = int(input())\n",
    "setEnglish = set(map(int, input().split()))\n",
    "nrFrench = int(input())\n",
    "setFrench = set(map(int, input().split()))\n",
    "\n",
    "print(nrSubscription(setEnglish, setFrench))"
   ]
  },
  {
   "cell_type": "markdown",
   "metadata": {},
   "source": [
    "#### set .intersection() operation"
   ]
  },
  {
   "cell_type": "code",
   "execution_count": 7,
   "metadata": {},
   "outputs": [
    {
     "name": "stdout",
     "output_type": "stream",
     "text": [
      "5\n",
      "1 2 3 4 5\n",
      "5\n",
      "1 2 3 6 9\n",
      "3\n"
     ]
    }
   ],
   "source": [
    "def nrSubscription(setA, setB):\n",
    "    # determine intersection of two sets\n",
    "    setTot = setA.intersection(setB)\n",
    "    # return the length of the set\n",
    "    return len(setTot)\n",
    "\n",
    "nrEnglish = int(input())\n",
    "setEnglish = set(map(int, input().split()))\n",
    "nrFrench = int(input())\n",
    "setFrench = set(map(int, input().split()))\n",
    "\n",
    "print(nrSubscription(setEnglish, setFrench))"
   ]
  },
  {
   "cell_type": "markdown",
   "metadata": {},
   "source": [
    "#### set .difference() operator"
   ]
  },
  {
   "cell_type": "code",
   "execution_count": 8,
   "metadata": {},
   "outputs": [
    {
     "name": "stdout",
     "output_type": "stream",
     "text": [
      "5\n",
      "1 2 3 4 5\n",
      "5\n",
      "1 2 6 7 9\n",
      "3\n"
     ]
    }
   ],
   "source": [
    "def nrSubscription(setA, setB):\n",
    "    # determine difference of two sets\n",
    "    setTot = setA.difference(setB)\n",
    "    # return the length of the set\n",
    "    return len(setTot)\n",
    "\n",
    "nrEnglish = int(input())\n",
    "setEnglish = set(map(int, input().split()))\n",
    "nrFrench = int(input())\n",
    "setFrench = set(map(int, input().split()))\n",
    "\n",
    "print(nrSubscription(setEnglish, setFrench))"
   ]
  },
  {
   "cell_type": "markdown",
   "metadata": {},
   "source": [
    "#### set .symmetric_difference operation"
   ]
  },
  {
   "cell_type": "code",
   "execution_count": 9,
   "metadata": {},
   "outputs": [
    {
     "name": "stdout",
     "output_type": "stream",
     "text": [
      "5\n",
      "1 2 3 4 5\n",
      "5\n",
      "1 2 6 7 9\n",
      "6\n"
     ]
    }
   ],
   "source": [
    "def nrSubscription(setA, setB):\n",
    "    # determine symmetric difference of two sets\n",
    "    setTot = setA.symmetric_difference(setB)\n",
    "    # return the length of the set\n",
    "    return len(setTot)\n",
    "\n",
    "nrEnglish = int(input())\n",
    "setEnglish = set(map(int, input().split()))\n",
    "nrFrench = int(input())\n",
    "setFrench = set(map(int, input().split()))\n",
    "\n",
    "print(nrSubscription(setEnglish, setFrench))"
   ]
  },
  {
   "cell_type": "markdown",
   "metadata": {},
   "source": [
    "#### Set mutations"
   ]
  },
  {
   "cell_type": "code",
   "execution_count": 11,
   "metadata": {},
   "outputs": [
    {
     "name": "stdout",
     "output_type": "stream",
     "text": [
      "16\n",
      " 1 2 3 4 5 6 7 8 9 10 11 12 13 14 24 52\n",
      "4\n",
      "intersection_update 10\n",
      " 2 3 5 6 8 9 1 4 7 11\n",
      "update 2\n",
      "55 66\n",
      " symmetric_difference_update 5\n",
      " 22 7 35 62 58\n",
      " difference_update 7\n",
      " 11 22 35 55 58 62 66\n",
      "38\n"
     ]
    }
   ],
   "source": [
    "nrSet = int(input())\n",
    "setA = set(map(int,input().split()))\n",
    "nrAction =int(input())\n",
    "\n",
    "# loop over the number of the action\n",
    "for _ in range(nrAction):\n",
    "    # determine an action and a set\n",
    "    action, t=input().split()\n",
    "    setB = set(map(int,input().split()))\n",
    "    if action ==\"update\":\n",
    "        setA.update(setB)\n",
    "    elif action ==\"intersection_update\":\n",
    "        setA.intersection_update(setB)\n",
    "    elif action ==\"difference_update\":\n",
    "        setA.difference_update(setB)\n",
    "    elif action ==\"symmetric_difference_update\":\n",
    "        setA.symmetric_difference_update(setB)\n",
    "# print the sum of the set after the actions\n",
    "print(sum(setA))"
   ]
  },
  {
   "cell_type": "markdown",
   "metadata": {},
   "source": [
    "#### The captain's room"
   ]
  },
  {
   "cell_type": "code",
   "execution_count": 13,
   "metadata": {},
   "outputs": [
    {
     "ename": "SyntaxError",
     "evalue": "invalid syntax (<ipython-input-13-bec07d874d61>, line 12)",
     "output_type": "error",
     "traceback": [
      "\u001b[1;36m  File \u001b[1;32m\"<ipython-input-13-bec07d874d61>\"\u001b[1;36m, line \u001b[1;32m12\u001b[0m\n\u001b[1;33m    return for i in diffSet\u001b[0m\n\u001b[1;37m           ^\u001b[0m\n\u001b[1;31mSyntaxError\u001b[0m\u001b[1;31m:\u001b[0m invalid syntax\n"
     ]
    }
   ],
   "source": [
    "# determine the captains room number\n",
    "def captainsRoom(lst):\n",
    "    # make a set of the list\n",
    "    setRoom = set(lst)\n",
    "    # loop over elements in set and remove from lst\n",
    "    for i in setRoom:\n",
    "        lst.remove(i)\n",
    "    \n",
    "    # return the difference between the lst and the set\n",
    "    diffSet = setRoom.difference(set(lst))\n",
    "    \n",
    "    for i in diffSet:\n",
    "        return i  \n",
    "\n",
    "\n",
    "k = int(input()) \n",
    "lstRoom = list(map(int, input().split())) \n",
    "\n",
    "print(captainsRoom(lstRoom))"
   ]
  },
  {
   "cell_type": "markdown",
   "metadata": {},
   "source": [
    "#### Check subset"
   ]
  },
  {
   "cell_type": "code",
   "execution_count": null,
   "metadata": {},
   "outputs": [],
   "source": [
    "n=int(input())\n",
    "# loop over the cases\n",
    "for x in range(n):\n",
    "    # determine the sets\n",
    "    nrA = int(input())\n",
    "    setA = set(map(int,input().split()))\n",
    "    nrB = int(input())\n",
    "    setB = set(map(int,input().split()))\n",
    "    \n",
    "    # check if a is subset of b\n",
    "    print(setA.issubset(setB))\n",
    "    \n"
   ]
  },
  {
   "cell_type": "markdown",
   "metadata": {},
   "source": [
    "#### Check strict superset"
   ]
  },
  {
   "cell_type": "code",
   "execution_count": 14,
   "metadata": {},
   "outputs": [
    {
     "name": "stdout",
     "output_type": "stream",
     "text": [
      "1 2 3 4 5 6 7 8 9 10 11 12 23 45 84 78\n",
      "2\n",
      "n 2 i 0\n",
      "1 2 3 4 5\n",
      "n 2 i 1\n",
      "100 11 12\n",
      "False\n"
     ]
    }
   ],
   "source": [
    "setA = set(map(int, input().split()))\n",
    "n = int(input())\n",
    "\n",
    "# loop over the sets\n",
    "for i in range(n):\n",
    "    # determine new set\n",
    "    setB = set(map(int, input().split()))\n",
    "    if not setA.issuperset(setB):\n",
    "        print('False')\n",
    "        break\n",
    "    # check if last one is superset\n",
    "    if (i == (n-1)) and (setA.issuperset(setB)):\n",
    "        print('True')\n",
    "    "
   ]
  },
  {
   "cell_type": "markdown",
   "metadata": {},
   "source": [
    "## Collections"
   ]
  },
  {
   "cell_type": "markdown",
   "metadata": {},
   "source": [
    "#### Collections.counter()"
   ]
  },
  {
   "cell_type": "code",
   "execution_count": 22,
   "metadata": {},
   "outputs": [
    {
     "name": "stdout",
     "output_type": "stream",
     "text": [
      "10\n",
      "2 3 4 5 6 8 7 6 5 18\n",
      "6\n",
      "6 55\n",
      "6 45\n",
      "6 55\n",
      "4 40\n",
      "18 60\n",
      "10 50\n",
      "200\n"
     ]
    }
   ],
   "source": [
    "nrShoes = int(input())\n",
    "lstShoes = list(map(int, input().split()))\n",
    "nrCust = int(input())\n",
    "\n",
    "#initialize earned money\n",
    "money = 0\n",
    "# loop over the customers\n",
    "for i in range(nrCust):\n",
    "    # determine size and money\n",
    "    size, costs = input().split()\n",
    "    size = int(size)\n",
    "    costs = int(costs)\n",
    "    if (size in lstShoes):\n",
    "        money += costs # add money\n",
    "        lstShoes.remove(size) # remove size from list\n",
    "\n",
    "print(money)\n",
    "        "
   ]
  },
  {
   "cell_type": "markdown",
   "metadata": {},
   "source": [
    "#### DefaultDict tutorial"
   ]
  },
  {
   "cell_type": "code",
   "execution_count": 23,
   "metadata": {},
   "outputs": [
    {
     "name": "stdout",
     "output_type": "stream",
     "text": [
      "5 2\n",
      "a\n",
      "a\n",
      "b\n",
      "a\n",
      "b\n",
      "a\n",
      "[1, 2, 4]\n",
      "b\n",
      "[3, 5]\n"
     ]
    }
   ],
   "source": [
    "from collections import defaultdict\n",
    "\n",
    "sizeA, sizeB = map(int,input().split())\n",
    "\n",
    "d = defaultdict(list)\n",
    "# loop over A and make a list\n",
    "for i in range(sizeA):\n",
    "    d[input()].append(i+1)\n",
    "\n",
    "# loop over size b\n",
    "for i in range(sizeB):\n",
    "    letterB = input()\n",
    "    # check if the letter is in d\n",
    "    if len(d[letterB])>0:\n",
    "        print(*d[letterB])\n",
    "    else:\n",
    "        print(-1)\n",
    " "
   ]
  },
  {
   "cell_type": "markdown",
   "metadata": {},
   "source": [
    "#### Collections.namedtuple()"
   ]
  },
  {
   "cell_type": "code",
   "execution_count": 24,
   "metadata": {},
   "outputs": [
    {
     "name": "stdout",
     "output_type": "stream",
     "text": [
      "5\n"
     ]
    },
    {
     "ename": "KeyboardInterrupt",
     "evalue": "Interrupted by user",
     "output_type": "error",
     "traceback": [
      "\u001b[1;31m---------------------------------------------------------------------------\u001b[0m",
      "\u001b[1;31mKeyboardInterrupt\u001b[0m                         Traceback (most recent call last)",
      "\u001b[1;32m<ipython-input-24-2142675ccccd>\u001b[0m in \u001b[0;36m<module>\u001b[1;34m\u001b[0m\n\u001b[0;32m      1\u001b[0m \u001b[0mn\u001b[0m\u001b[1;33m=\u001b[0m\u001b[0mint\u001b[0m\u001b[1;33m(\u001b[0m\u001b[0minput\u001b[0m\u001b[1;33m(\u001b[0m\u001b[1;33m)\u001b[0m\u001b[1;33m)\u001b[0m\u001b[1;33m\u001b[0m\u001b[1;33m\u001b[0m\u001b[0m\n\u001b[1;32m----> 2\u001b[1;33m \u001b[0mstring\u001b[0m\u001b[1;33m=\u001b[0m\u001b[0minput\u001b[0m\u001b[1;33m(\u001b[0m\u001b[1;33m)\u001b[0m\u001b[1;33m.\u001b[0m\u001b[0msplit\u001b[0m\u001b[1;33m(\u001b[0m\u001b[1;33m)\u001b[0m\u001b[1;33m\u001b[0m\u001b[1;33m\u001b[0m\u001b[0m\n\u001b[0m\u001b[0;32m      3\u001b[0m \u001b[0mindex\u001b[0m\u001b[1;33m=\u001b[0m\u001b[0mstring\u001b[0m\u001b[1;33m.\u001b[0m\u001b[0mindex\u001b[0m\u001b[1;33m(\u001b[0m\u001b[1;34m\"MARKS\"\u001b[0m\u001b[1;33m)\u001b[0m\u001b[1;33m\u001b[0m\u001b[1;33m\u001b[0m\u001b[0m\n\u001b[0;32m      4\u001b[0m \u001b[1;33m\u001b[0m\u001b[0m\n\u001b[0;32m      5\u001b[0m \u001b[1;31m# initialize\u001b[0m\u001b[1;33m\u001b[0m\u001b[1;33m\u001b[0m\u001b[1;33m\u001b[0m\u001b[0m\n",
      "\u001b[1;32m~\\anaconda3\\lib\\site-packages\\ipykernel\\kernelbase.py\u001b[0m in \u001b[0;36mraw_input\u001b[1;34m(self, prompt)\u001b[0m\n\u001b[0;32m    858\u001b[0m                 \u001b[1;34m\"raw_input was called, but this frontend does not support input requests.\"\u001b[0m\u001b[1;33m\u001b[0m\u001b[1;33m\u001b[0m\u001b[0m\n\u001b[0;32m    859\u001b[0m             )\n\u001b[1;32m--> 860\u001b[1;33m         return self._input_request(str(prompt),\n\u001b[0m\u001b[0;32m    861\u001b[0m             \u001b[0mself\u001b[0m\u001b[1;33m.\u001b[0m\u001b[0m_parent_ident\u001b[0m\u001b[1;33m,\u001b[0m\u001b[1;33m\u001b[0m\u001b[1;33m\u001b[0m\u001b[0m\n\u001b[0;32m    862\u001b[0m             \u001b[0mself\u001b[0m\u001b[1;33m.\u001b[0m\u001b[0m_parent_header\u001b[0m\u001b[1;33m,\u001b[0m\u001b[1;33m\u001b[0m\u001b[1;33m\u001b[0m\u001b[0m\n",
      "\u001b[1;32m~\\anaconda3\\lib\\site-packages\\ipykernel\\kernelbase.py\u001b[0m in \u001b[0;36m_input_request\u001b[1;34m(self, prompt, ident, parent, password)\u001b[0m\n\u001b[0;32m    902\u001b[0m             \u001b[1;32mexcept\u001b[0m \u001b[0mKeyboardInterrupt\u001b[0m\u001b[1;33m:\u001b[0m\u001b[1;33m\u001b[0m\u001b[1;33m\u001b[0m\u001b[0m\n\u001b[0;32m    903\u001b[0m                 \u001b[1;31m# re-raise KeyboardInterrupt, to truncate traceback\u001b[0m\u001b[1;33m\u001b[0m\u001b[1;33m\u001b[0m\u001b[1;33m\u001b[0m\u001b[0m\n\u001b[1;32m--> 904\u001b[1;33m                 \u001b[1;32mraise\u001b[0m \u001b[0mKeyboardInterrupt\u001b[0m\u001b[1;33m(\u001b[0m\u001b[1;34m\"Interrupted by user\"\u001b[0m\u001b[1;33m)\u001b[0m \u001b[1;32mfrom\u001b[0m \u001b[1;32mNone\u001b[0m\u001b[1;33m\u001b[0m\u001b[1;33m\u001b[0m\u001b[0m\n\u001b[0m\u001b[0;32m    905\u001b[0m             \u001b[1;32mexcept\u001b[0m \u001b[0mException\u001b[0m \u001b[1;32mas\u001b[0m \u001b[0me\u001b[0m\u001b[1;33m:\u001b[0m\u001b[1;33m\u001b[0m\u001b[1;33m\u001b[0m\u001b[0m\n\u001b[0;32m    906\u001b[0m                 \u001b[0mself\u001b[0m\u001b[1;33m.\u001b[0m\u001b[0mlog\u001b[0m\u001b[1;33m.\u001b[0m\u001b[0mwarning\u001b[0m\u001b[1;33m(\u001b[0m\u001b[1;34m\"Invalid Message:\"\u001b[0m\u001b[1;33m,\u001b[0m \u001b[0mexc_info\u001b[0m\u001b[1;33m=\u001b[0m\u001b[1;32mTrue\u001b[0m\u001b[1;33m)\u001b[0m\u001b[1;33m\u001b[0m\u001b[1;33m\u001b[0m\u001b[0m\n",
      "\u001b[1;31mKeyboardInterrupt\u001b[0m: Interrupted by user"
     ]
    }
   ],
   "source": [
    "n = int(input())\n",
    "string = input().split()\n",
    "index = string.index(\"MARKS\")\n",
    "\n",
    "# initialize\n",
    "total=0\n",
    "\n",
    "# loop over the students\n",
    "for i in range(n):\n",
    "    grades = input().split()\n",
    "    total += int(grades[index])\n",
    "\n",
    "# print average\n",
    "print(total/n)"
   ]
  },
  {
   "cell_type": "markdown",
   "metadata": {},
   "source": [
    "#### collections.OrderedDict()"
   ]
  },
  {
   "cell_type": "code",
   "execution_count": 35,
   "metadata": {},
   "outputs": [
    {
     "name": "stdout",
     "output_type": "stream",
     "text": [
      "3\n",
      "ban 2\n",
      "ban 3\n",
      "jan 1\n",
      "ban 5\n",
      "jan 1\n"
     ]
    }
   ],
   "source": [
    "from collections import OrderedDict\n",
    "\n",
    "# make empty dictionary\n",
    "orderedDict = {}\n",
    "\n",
    "nrProducts = int(input())\n",
    "\n",
    "# loop over the number of products\n",
    "for _ in range(nrProducts):\n",
    "\n",
    "    lst = input().split()\n",
    "    price = int(lst[-1])\n",
    "\n",
    "    name = ' '.join(map(str, lst[:-1]))\n",
    "    \n",
    "    # check if the name is already is in dictionary\n",
    "    # in that case add price\n",
    "    # otherwise make new key\n",
    "    if name in orderedDict:\n",
    "        orderedDict[name] += price\n",
    "    else:\n",
    "        orderedDict[name] = price\n",
    "\n",
    "# print the products\n",
    "for key, price in orderedDict.items():\n",
    "    print (key, price)\n"
   ]
  },
  {
   "cell_type": "markdown",
   "metadata": {},
   "source": [
    "#### Word order"
   ]
  },
  {
   "cell_type": "code",
   "execution_count": 37,
   "metadata": {},
   "outputs": [
    {
     "name": "stdout",
     "output_type": "stream",
     "text": [
      "4\n",
      "bcdef\n",
      "abcdefg\n",
      "bcde\n",
      "bcdef\n",
      "3\n"
     ]
    },
    {
     "ename": "TypeError",
     "evalue": "sequence item 0: expected str instance, tuple found",
     "output_type": "error",
     "traceback": [
      "\u001b[1;31m---------------------------------------------------------------------------\u001b[0m",
      "\u001b[1;31mTypeError\u001b[0m                                 Traceback (most recent call last)",
      "\u001b[1;32m<ipython-input-37-3effc5a1d2fd>\u001b[0m in \u001b[0;36m<module>\u001b[1;34m\u001b[0m\n\u001b[0;32m     17\u001b[0m \u001b[0mprint\u001b[0m\u001b[1;33m(\u001b[0m\u001b[0mlen\u001b[0m\u001b[1;33m(\u001b[0m\u001b[0mdictionary\u001b[0m\u001b[1;33m)\u001b[0m\u001b[1;33m)\u001b[0m\u001b[1;33m\u001b[0m\u001b[1;33m\u001b[0m\u001b[0m\n\u001b[0;32m     18\u001b[0m \u001b[1;31m# print the count\u001b[0m\u001b[1;33m\u001b[0m\u001b[1;33m\u001b[0m\u001b[1;33m\u001b[0m\u001b[0m\n\u001b[1;32m---> 19\u001b[1;33m \u001b[0mprint\u001b[0m\u001b[1;33m(\u001b[0m\u001b[1;34m' '\u001b[0m\u001b[1;33m.\u001b[0m\u001b[0mjoin\u001b[0m\u001b[1;33m(\u001b[0m\u001b[1;33m[\u001b[0m\u001b[0mi\u001b[0m \u001b[1;32mfor\u001b[0m \u001b[0mi\u001b[0m \u001b[1;32min\u001b[0m \u001b[0mdictionary\u001b[0m\u001b[1;33m.\u001b[0m\u001b[0mitems\u001b[0m\u001b[1;33m(\u001b[0m\u001b[1;33m)\u001b[0m\u001b[1;33m]\u001b[0m\u001b[1;33m)\u001b[0m\u001b[1;33m)\u001b[0m\u001b[1;33m\u001b[0m\u001b[1;33m\u001b[0m\u001b[0m\n\u001b[0m",
      "\u001b[1;31mTypeError\u001b[0m: sequence item 0: expected str instance, tuple found"
     ]
    }
   ],
   "source": [
    "from collections import OrderedDict\n",
    "\n",
    "nrWords = int(input())\n",
    "dictionary = OrderedDict()\n",
    "\n",
    "# loop over the number of words\n",
    "for i in range(nrWords):\n",
    "    # receive a word\n",
    "    word = input()\n",
    "    # see if word is in dictionary\n",
    "    if word in dictionary:\n",
    "        dictionary[word] = int(dictionary.get(word)) + 1\n",
    "    else:\n",
    "        dictionary[word] = 1\n",
    "    \n",
    "# print nr of words\n",
    "print(len(dictionary))\n",
    "# print the count\n",
    "print(' '.join([str(dictionary.get(i)) for i in dictionary]))"
   ]
  },
  {
   "cell_type": "markdown",
   "metadata": {},
   "source": [
    "#### Collections.deque()"
   ]
  },
  {
   "cell_type": "code",
   "execution_count": null,
   "metadata": {},
   "outputs": [],
   "source": [
    "from collections import deque\n",
    "\n",
    "d = deque()\n",
    "nrActions = int(input())\n",
    "\n",
    "for i in range(nrActions):\n",
    "    action = input().split()    \n",
    "    if action[0] =='append':\n",
    "        d.append(int(action[1]))    \n",
    "    elif action[0] == 'appendleft':\n",
    "        d.appendleft(int(action[1]))\n",
    "    elif action[0] == 'pop':\n",
    "        d.pop()\n",
    "    elif action[0] == 'popleft':\n",
    "        d.popleft()\n",
    "\n",
    "# print the d\n",
    "for element in d:\n",
    "    print(element, end=' ')\n",
    "    "
   ]
  },
  {
   "cell_type": "markdown",
   "metadata": {},
   "source": [
    "#### Company logo"
   ]
  },
  {
   "cell_type": "code",
   "execution_count": 11,
   "metadata": {},
   "outputs": [
    {
     "name": "stdout",
     "output_type": "stream",
     "text": [
      "qwertyuiopasdfghjklzxcvbnm\n",
      "a 1\n",
      "b 1\n",
      "c 1\n"
     ]
    }
   ],
   "source": [
    "from itertools import groupby\n",
    "\n",
    "\n",
    "import math\n",
    "import os\n",
    "import random\n",
    "import re\n",
    "import sys\n",
    "\n",
    "def countLetters(string):\n",
    "    \n",
    "    # make a dictionary\n",
    "    dictionary = {}\n",
    "    \n",
    "    for letter in string:\n",
    "        # check if letter is in dictionary\n",
    "        if letter in dictionary:\n",
    "            dictionary[letter] = int(dictionary.get(letter)) + 1\n",
    "        else:\n",
    "            dictionary[letter] = 1\n",
    "    \n",
    "    \n",
    "    #make a list of the dictionary\n",
    "    lst = list(dictionary.keys())\n",
    "    # sort the list on most appearing letter\n",
    "    lst.sort()\n",
    "    lst.sort(reverse=True, key=lambda k: dictionary[k])\n",
    "\n",
    "    # print the count for the first three\n",
    "    for element in lst[:3]:\n",
    "        print(element, dictionary[element])\n",
    "    \n",
    "\n",
    "\n",
    "if __name__ == '__main__':\n",
    "    s = input()\n",
    "    countLetters(s)\n",
    "\n",
    "\n"
   ]
  },
  {
   "cell_type": "markdown",
   "metadata": {},
   "source": [
    "#### Piling up"
   ]
  },
  {
   "cell_type": "code",
   "execution_count": null,
   "metadata": {},
   "outputs": [],
   "source": [
    "import math\n",
    "def pileBlocks(blocks):\n",
    "    # initialize the bottom\n",
    "    bottom = math.inf\n",
    "    # loop until there are no blocks left\n",
    "    while blocks:\n",
    "        # if the left block is bigger than the right block\n",
    "        # and is smaller than the bottom, it can be stacked\n",
    "        if blocks[0] >= blocks[-1] and blocks[0] <= bottom:\n",
    "            bottom = blocks[0]\n",
    "            # delete this block from the list\n",
    "            del blocks[0]\n",
    "            continue\n",
    "        # if right block is bigger than left block\n",
    "        # and smaller than the bottom, it can be stacked\n",
    "        if blocks[-1] >= blocks[0] and blocks[-1] <= bottom:\n",
    "            bottom = blocks[-1]\n",
    "            del blocks[-1]\n",
    "            continue\n",
    "        # if not print false\n",
    "        return print('No')\n",
    "    # if print true\n",
    "    return print('Yes')\n",
    "\n",
    "if __name__ == '__main__':\n",
    "    T = int(input())\n",
    "    for _ in range(T):\n",
    "        n = int(input())\n",
    "        blocks = list(map(int, input().split()))\n",
    "        pileBlocks(blocks)"
   ]
  },
  {
   "cell_type": "markdown",
   "metadata": {},
   "source": [
    "## Date and time"
   ]
  },
  {
   "cell_type": "markdown",
   "metadata": {},
   "source": [
    "#### Calendar module"
   ]
  },
  {
   "cell_type": "code",
   "execution_count": 15,
   "metadata": {},
   "outputs": [
    {
     "name": "stdout",
     "output_type": "stream",
     "text": [
      "08 05 2015\n",
      "WEDNESDAY\n"
     ]
    }
   ],
   "source": [
    "import calendar\n",
    "\n",
    "def findDay(day, month, year):\n",
    "    # find nr weekday\n",
    "    weekdayNr = calendar.weekday(year, month, day)\n",
    "    # convert it to a string and return    \n",
    "    return calendar.day_name[weekdayNr]\n",
    "\n",
    "month, day, year = map(int,input().split())\n",
    "# print in upper case\n",
    "print(findDay(day, month, year).upper())\n"
   ]
  },
  {
   "cell_type": "markdown",
   "metadata": {},
   "source": [
    "#### Time Delta"
   ]
  },
  {
   "cell_type": "code",
   "execution_count": null,
   "metadata": {},
   "outputs": [],
   "source": [
    "from datetime import datetime\n",
    "\n",
    "def time_delta(time1, time2):\n",
    "    # used format\n",
    "    time = \"%a %d %b %Y %H:%M:%S %z\"\n",
    "    t1 = datetime.strptime(time1, time)\n",
    "    t2 = datetime.strptime(time2, time)\n",
    "    \n",
    "    # return absolute value\n",
    "    return str(abs(int((t1 - t2).total_seconds())))\n",
    "\n",
    "if __name__ == '__main__':\n",
    "    fptr = open(os.environ['OUTPUT_PATH'], 'w')\n",
    "\n",
    "    t = int(input())\n",
    "\n",
    "    for t_itr in range(t):\n",
    "        t1 = input()\n",
    "\n",
    "        t2 = input()\n",
    "\n",
    "        delta = time_delta(t1, t2)\n",
    "\n",
    "        fptr.write(delta + '\\n')\n",
    "\n",
    "    fptr.close()\n"
   ]
  },
  {
   "cell_type": "markdown",
   "metadata": {},
   "source": [
    "#### Exceptions"
   ]
  },
  {
   "cell_type": "code",
   "execution_count": 16,
   "metadata": {},
   "outputs": [
    {
     "name": "stdout",
     "output_type": "stream",
     "text": [
      "3\n",
      "2 0\n",
      "Error Code: integer division or modulo by zero\n",
      "2 1\n",
      "2\n",
      "0 2\n",
      "0\n"
     ]
    }
   ],
   "source": [
    "# loop over the test cases\n",
    "for i in range(int(input())):\n",
    "    try:\n",
    "        # give a and b\n",
    "        a,b = map(int,input().split())\n",
    "        print(a//b)\n",
    "    # give the corresponding error\n",
    "    except Exception as e:\n",
    "        print(\"Error Code:\",e)"
   ]
  },
  {
   "cell_type": "markdown",
   "metadata": {},
   "source": [
    "## Built-ins"
   ]
  },
  {
   "cell_type": "markdown",
   "metadata": {},
   "source": [
    "#### Zipped!"
   ]
  },
  {
   "cell_type": "code",
   "execution_count": 17,
   "metadata": {},
   "outputs": [
    {
     "ename": "KeyboardInterrupt",
     "evalue": "Interrupted by user",
     "output_type": "error",
     "traceback": [
      "\u001b[1;31m---------------------------------------------------------------------------\u001b[0m",
      "\u001b[1;31mKeyboardInterrupt\u001b[0m                         Traceback (most recent call last)",
      "\u001b[1;32m<ipython-input-17-3d89cacf15be>\u001b[0m in \u001b[0;36m<module>\u001b[1;34m\u001b[0m\n\u001b[1;32m----> 1\u001b[1;33m \u001b[0mstudent\u001b[0m\u001b[1;33m,\u001b[0m \u001b[0msubject\u001b[0m \u001b[1;33m=\u001b[0m \u001b[0mmap\u001b[0m\u001b[1;33m(\u001b[0m\u001b[0mint\u001b[0m\u001b[1;33m,\u001b[0m\u001b[0minput\u001b[0m\u001b[1;33m(\u001b[0m\u001b[1;33m)\u001b[0m\u001b[1;33m.\u001b[0m\u001b[0msplit\u001b[0m\u001b[1;33m(\u001b[0m\u001b[1;33m)\u001b[0m\u001b[1;33m)\u001b[0m\u001b[1;33m\u001b[0m\u001b[1;33m\u001b[0m\u001b[0m\n\u001b[0m\u001b[0;32m      2\u001b[0m \u001b[0mgrades\u001b[0m \u001b[1;33m=\u001b[0m \u001b[1;33m[\u001b[0m\u001b[1;33m]\u001b[0m\u001b[1;33m\u001b[0m\u001b[1;33m\u001b[0m\u001b[0m\n\u001b[0;32m      3\u001b[0m \u001b[1;32mfor\u001b[0m \u001b[0m_\u001b[0m \u001b[1;32min\u001b[0m \u001b[0mrange\u001b[0m\u001b[1;33m(\u001b[0m\u001b[0mint\u001b[0m\u001b[1;33m(\u001b[0m\u001b[0msubject\u001b[0m\u001b[1;33m)\u001b[0m\u001b[1;33m)\u001b[0m\u001b[1;33m:\u001b[0m\u001b[1;33m\u001b[0m\u001b[1;33m\u001b[0m\u001b[0m\n\u001b[0;32m      4\u001b[0m     \u001b[0mscores\u001b[0m \u001b[1;33m=\u001b[0m \u001b[0mlist\u001b[0m\u001b[1;33m(\u001b[0m\u001b[0mmap\u001b[0m\u001b[1;33m(\u001b[0m\u001b[0mfloat\u001b[0m\u001b[1;33m,\u001b[0m \u001b[0minput\u001b[0m\u001b[1;33m(\u001b[0m\u001b[1;33m)\u001b[0m\u001b[1;33m.\u001b[0m\u001b[0msplit\u001b[0m\u001b[1;33m(\u001b[0m\u001b[1;33m)\u001b[0m\u001b[1;33m)\u001b[0m\u001b[1;33m)\u001b[0m\u001b[1;33m\u001b[0m\u001b[1;33m\u001b[0m\u001b[0m\n\u001b[0;32m      5\u001b[0m     \u001b[0mgrades\u001b[0m\u001b[1;33m.\u001b[0m\u001b[0mappend\u001b[0m\u001b[1;33m(\u001b[0m\u001b[0mscores\u001b[0m\u001b[1;33m)\u001b[0m\u001b[1;33m\u001b[0m\u001b[1;33m\u001b[0m\u001b[0m\n",
      "\u001b[1;32m~\\anaconda3\\lib\\site-packages\\ipykernel\\kernelbase.py\u001b[0m in \u001b[0;36mraw_input\u001b[1;34m(self, prompt)\u001b[0m\n\u001b[0;32m    858\u001b[0m                 \u001b[1;34m\"raw_input was called, but this frontend does not support input requests.\"\u001b[0m\u001b[1;33m\u001b[0m\u001b[1;33m\u001b[0m\u001b[0m\n\u001b[0;32m    859\u001b[0m             )\n\u001b[1;32m--> 860\u001b[1;33m         return self._input_request(str(prompt),\n\u001b[0m\u001b[0;32m    861\u001b[0m             \u001b[0mself\u001b[0m\u001b[1;33m.\u001b[0m\u001b[0m_parent_ident\u001b[0m\u001b[1;33m,\u001b[0m\u001b[1;33m\u001b[0m\u001b[1;33m\u001b[0m\u001b[0m\n\u001b[0;32m    862\u001b[0m             \u001b[0mself\u001b[0m\u001b[1;33m.\u001b[0m\u001b[0m_parent_header\u001b[0m\u001b[1;33m,\u001b[0m\u001b[1;33m\u001b[0m\u001b[1;33m\u001b[0m\u001b[0m\n",
      "\u001b[1;32m~\\anaconda3\\lib\\site-packages\\ipykernel\\kernelbase.py\u001b[0m in \u001b[0;36m_input_request\u001b[1;34m(self, prompt, ident, parent, password)\u001b[0m\n\u001b[0;32m    902\u001b[0m             \u001b[1;32mexcept\u001b[0m \u001b[0mKeyboardInterrupt\u001b[0m\u001b[1;33m:\u001b[0m\u001b[1;33m\u001b[0m\u001b[1;33m\u001b[0m\u001b[0m\n\u001b[0;32m    903\u001b[0m                 \u001b[1;31m# re-raise KeyboardInterrupt, to truncate traceback\u001b[0m\u001b[1;33m\u001b[0m\u001b[1;33m\u001b[0m\u001b[1;33m\u001b[0m\u001b[0m\n\u001b[1;32m--> 904\u001b[1;33m                 \u001b[1;32mraise\u001b[0m \u001b[0mKeyboardInterrupt\u001b[0m\u001b[1;33m(\u001b[0m\u001b[1;34m\"Interrupted by user\"\u001b[0m\u001b[1;33m)\u001b[0m \u001b[1;32mfrom\u001b[0m \u001b[1;32mNone\u001b[0m\u001b[1;33m\u001b[0m\u001b[1;33m\u001b[0m\u001b[0m\n\u001b[0m\u001b[0;32m    905\u001b[0m             \u001b[1;32mexcept\u001b[0m \u001b[0mException\u001b[0m \u001b[1;32mas\u001b[0m \u001b[0me\u001b[0m\u001b[1;33m:\u001b[0m\u001b[1;33m\u001b[0m\u001b[1;33m\u001b[0m\u001b[0m\n\u001b[0;32m    906\u001b[0m                 \u001b[0mself\u001b[0m\u001b[1;33m.\u001b[0m\u001b[0mlog\u001b[0m\u001b[1;33m.\u001b[0m\u001b[0mwarning\u001b[0m\u001b[1;33m(\u001b[0m\u001b[1;34m\"Invalid Message:\"\u001b[0m\u001b[1;33m,\u001b[0m \u001b[0mexc_info\u001b[0m\u001b[1;33m=\u001b[0m\u001b[1;32mTrue\u001b[0m\u001b[1;33m)\u001b[0m\u001b[1;33m\u001b[0m\u001b[1;33m\u001b[0m\u001b[0m\n",
      "\u001b[1;31mKeyboardInterrupt\u001b[0m: Interrupted by user"
     ]
    }
   ],
   "source": [
    "student, subject = map(int,input().split())\n",
    "grades = []\n",
    "for _ in range(int(subject)):\n",
    "    scores = list(map(float, input().split()))\n",
    "    grades.append(scores)\n",
    "\n",
    "for i in zip(grades):\n",
    "    print(sum(i)/subjects)"
   ]
  },
  {
   "cell_type": "markdown",
   "metadata": {},
   "source": [
    "#### Athlete sort"
   ]
  },
  {
   "cell_type": "code",
   "execution_count": 22,
   "metadata": {},
   "outputs": [
    {
     "name": "stdout",
     "output_type": "stream",
     "text": [
      "3 2\n",
      "1 2 3\n",
      "3 2 1\n",
      "4 4 4\n",
      "1\n",
      "1 2 3\n",
      "3 2 1\n",
      "4 4 4\n"
     ]
    }
   ],
   "source": [
    "import math\n",
    "import os\n",
    "import random\n",
    "import re\n",
    "import sys\n",
    "import numpy as np\n",
    "\n",
    "if __name__ == '__main__':\n",
    "    nm = input().split()\n",
    "\n",
    "    n = int(nm[0])\n",
    "    m = int(nm[1])\n",
    "    arr = []\n",
    "    for _ in range(n):\n",
    "        arr.append(list(map(int, input().rstrip().split())))\n",
    "\n",
    "    k = int(input())\n",
    "    \n",
    "    # sort the array\n",
    "    dataArr =sorted(arr, key=lambda x: x[k])\n",
    "    \n",
    "    # print the list correctly\n",
    "    for i in range(len(dataArr)):\n",
    "        print(*dataArr[i])\n"
   ]
  },
  {
   "cell_type": "markdown",
   "metadata": {},
   "source": [
    "#### ginortS"
   ]
  },
  {
   "cell_type": "code",
   "execution_count": 36,
   "metadata": {},
   "outputs": [
    {
     "name": "stdout",
     "output_type": "stream",
     "text": [
      "aaaFWFqw112432\n",
      "aaaqwFFW113242\n"
     ]
    }
   ],
   "source": [
    "def sortWord (string):\n",
    "    # make empty lists for four cases\n",
    "    upperCase = []\n",
    "    lowerCase = []\n",
    "    evenNumber = []\n",
    "    oddNumber = []\n",
    "    \n",
    "    # loop over symbols in string and add them to correct list\n",
    "    # This will separate the four categories\n",
    "    for i in range(len(string)):\n",
    "        if string[i].isupper():\n",
    "            upperCase.append(string[i])\n",
    "        elif string[i].islower():\n",
    "            lowerCase.append(string[i])\n",
    "        elif int(string[i])% 2 == 0:\n",
    "            evenNumber.append(string[i])\n",
    "        else:\n",
    "            oddNumber.append(string[i])\n",
    "    \n",
    "    # sort the four lists \n",
    "    upperCaseSort = sorted(upperCase)\n",
    "    lowerCaseSort = sorted(lowerCase)\n",
    "    evenNumberSort = sorted(evenNumber)\n",
    "    oddNumberSort = sorted(oddNumber)\n",
    "    \n",
    "    # combine the lists\n",
    "    combinedList = ''.join(lowerCaseSort)+''.join(upperCaseSort)+''.join(oddNumberSort)+''.join(evenNumberSort)\n",
    "    \n",
    "    # return the combined lists\n",
    "    return combinedList\n",
    "\n",
    "\n",
    "\n",
    "word = input()\n",
    "print(sortWord(word))"
   ]
  },
  {
   "cell_type": "markdown",
   "metadata": {},
   "source": [
    "## Python Functionals (map and lambda functions)"
   ]
  },
  {
   "cell_type": "code",
   "execution_count": 39,
   "metadata": {},
   "outputs": [
    {
     "name": "stdout",
     "output_type": "stream",
     "text": [
      "7\n",
      "[0, 1, 1, 8, 27, 125, 512]\n"
     ]
    }
   ],
   "source": [
    "cube = lambda x: x**3 # complete the lambda function \n",
    "\n",
    "def fibonacci(n):\n",
    "    \n",
    "    # make empty list to store fibonacci numbers\n",
    "    lstFib = []\n",
    "    \n",
    "    # loop over n\n",
    "    for i in range(n):\n",
    "        # return a list of fibonacci numbers\n",
    "        # Check if n is 0\n",
    "        # then it will return 0\n",
    "        if i == 0:\n",
    "            lstFib.append(0)\n",
    " \n",
    "        # Check if n is 1,2\n",
    "        elif i == 1 or i == 2:\n",
    "            lstFib.append(1)\n",
    " \n",
    "        else:\n",
    "            lstFib.append(lstFib[i-1] + lstFib[i-2]) \n",
    "    \n",
    "    return lstFib\n",
    " \n",
    "\n",
    "if __name__ == '__main__':\n",
    "    n = int(input())\n",
    "    print(list(map(cube, fibonacci(n))))"
   ]
  },
  {
   "cell_type": "markdown",
   "metadata": {},
   "source": [
    "## Regex and Parsing challenges"
   ]
  },
  {
   "cell_type": "markdown",
   "metadata": {},
   "source": [
    "#### Detect floating point number"
   ]
  },
  {
   "cell_type": "code",
   "execution_count": 44,
   "metadata": {},
   "outputs": [
    {
     "name": "stdout",
     "output_type": "stream",
     "text": [
      "4\n",
      "3.0\n",
      "True\n",
      "wao[quf\n",
      "False\n",
      "2.2\n",
      "True\n",
      "2.\n",
      "False\n"
     ]
    }
   ],
   "source": [
    "import re\n",
    "\n",
    "def detectFloatPointNr(nrStrings):\n",
    "    \n",
    "    # loop over symbols in string\n",
    "    for i in range(n):\n",
    "        # make a new nr\n",
    "        inputNr = input()\n",
    "        # check if one of the conditions from exercise is met\n",
    "        if re.match('^[+-]{0,1}[\\d]{0,}\\.\\d+$', inputNr):\n",
    "            print(True)\n",
    "        else:\n",
    "            print(False)\n",
    "        \n",
    "\n",
    "n = int(input())\n",
    "\n",
    "detectFloatPointNr(4)"
   ]
  },
  {
   "cell_type": "markdown",
   "metadata": {},
   "source": [
    "#### Re.split()"
   ]
  },
  {
   "cell_type": "code",
   "execution_count": null,
   "metadata": {},
   "outputs": [],
   "source": [
    "regex_pattern = r\"[,.]\"\t# Do not delete 'r'.\n",
    "\n",
    "import re\n",
    "print(\"\\n\".join(re.split(regex_pattern, input())))"
   ]
  },
  {
   "cell_type": "markdown",
   "metadata": {},
   "source": [
    "#### Group(), Groups() & Groupdict()"
   ]
  },
  {
   "cell_type": "code",
   "execution_count": 51,
   "metadata": {},
   "outputs": [
    {
     "name": "stdout",
     "output_type": "stream",
     "text": [
      "__init__\n",
      "i\n"
     ]
    }
   ],
   "source": [
    "def findRepeat(string): \n",
    "    # make an empty set to store characters\n",
    "    charSet = set()\n",
    "    # loop over elements in string\n",
    "    for element in string: \n",
    "        # if element is in the set, it is repeated and can be returned\n",
    "        if element in charSet: \n",
    "            return element\n",
    "        # else it should be checked if the element is alphanumeric \n",
    "        # and can be added to the set.\n",
    "        elif element.isalnum(): \n",
    "            charSet.add(element)\n",
    "\n",
    "    return -1\n",
    "\n",
    "n = input()\n",
    "print(findRepeat(n)) "
   ]
  },
  {
   "cell_type": "markdown",
   "metadata": {},
   "source": [
    "#### Re.findall() & Re.finditer()"
   ]
  },
  {
   "cell_type": "code",
   "execution_count": 55,
   "metadata": {},
   "outputs": [
    {
     "name": "stdout",
     "output_type": "stream",
     "text": [
      "qeeroijgo\n",
      "ee\n",
      "oi\n"
     ]
    }
   ],
   "source": [
    "# used the discussion section of hackerrank\n",
    "\n",
    "import re\n",
    "\n",
    "def findVowelsinConsonants(string):\n",
    "    # define the repetition strings\n",
    "    pattern = re.compile(r\"(?<![AEIOU])([AEIOU]{2,})(?![AEIOU]).\", re.I)\n",
    "    # save the vowels from the pattern\n",
    "    vowels = pattern.findall(string)\n",
    "    if vowels:\n",
    "        # print the vowels, seperated on each line\n",
    "        print(*vowels, sep='\\n')\n",
    "    else:\n",
    "        print(-1)\n",
    "    \n",
    "    \n",
    "\n",
    "\n",
    "n = input()\n",
    "findVowelsinConsonants(n)"
   ]
  },
  {
   "cell_type": "markdown",
   "metadata": {},
   "source": [
    "#### Re.start() & Re.end()"
   ]
  },
  {
   "cell_type": "code",
   "execution_count": 64,
   "metadata": {},
   "outputs": [
    {
     "name": "stdout",
     "output_type": "stream",
     "text": [
      "aaabaa\n",
      "aa\n",
      "(0, 1)\n",
      "(1, 2)\n",
      "(4, 5)\n"
     ]
    }
   ],
   "source": [
    "# used the discussion section of hackerrank\n",
    "\n",
    "import re\n",
    "\n",
    "def partofString(string, partString):\n",
    "    # see if substring is part of the string\n",
    "    if re.search(r\"\" + partString + \"\", string):\n",
    "        # find the start and end parts\n",
    "        for string in re.finditer(r\"(?=(\"+ partString +\"))\", string):\n",
    "            print(\"(\",string.start(1),\", \",string.end(1)-1,\")\", sep='')\n",
    "        \n",
    "    # if it is not part of string\n",
    "    else:\n",
    "        print(\"(-1, -1)\")\n",
    "        \n",
    "\n",
    "string = input()\n",
    "partString = input()\n",
    "\n",
    "partofString(string, partString)"
   ]
  },
  {
   "cell_type": "markdown",
   "metadata": {},
   "source": [
    "#### Regex Substitution"
   ]
  },
  {
   "cell_type": "code",
   "execution_count": null,
   "metadata": {},
   "outputs": [],
   "source": [
    "import re\n",
    "\n",
    "\n",
    "\n",
    "def Replacement(check):\n",
    "    string = str(check.group(0))\n",
    "    if string == \"||\":\n",
    "        return \"or\"\n",
    "    elif string == \"&&\":\n",
    "        return \"and\"\n",
    "\n",
    "    \n",
    "number = int(input())\n",
    "\n",
    "# loop over the number\n",
    "for i in range(number):\n",
    "    # define the input\n",
    "    string = input()\n",
    "    # define tha pattern\n",
    "    symbols = \"(?<=[ ])[|]{2}(?=[ ])|(?<=[ ])[&]{2}(?=[ ])\"\n",
    "    # print the text\n",
    "    print(re.sub(symbols, Replacement, string))"
   ]
  },
  {
   "cell_type": "markdown",
   "metadata": {},
   "source": [
    "#### Validating Roman Numerals"
   ]
  },
  {
   "cell_type": "code",
   "execution_count": 65,
   "metadata": {},
   "outputs": [
    {
     "name": "stdout",
     "output_type": "stream",
     "text": [
      "LL\n",
      "True\n"
     ]
    }
   ],
   "source": [
    "def checkIfRoman(string):\n",
    "    #possible roman letters\n",
    "    RomanLetters = [\"M\", \"D\", \"C\", \"L\", \"X\", \"V\", \"I\", \"(\", \")\"]\n",
    "    #initialize boolean\n",
    "    Roman = True\n",
    "    # loop over the letters\n",
    "    for letters in string:\n",
    "        # change boolean if not roman letter\n",
    "        if letters not in RomanLetters:\n",
    "            Roman = False\n",
    "            break\n",
    "    return Roman\n",
    "\n",
    "text = input()\n",
    "print(checkIfRoman(text))"
   ]
  },
  {
   "cell_type": "markdown",
   "metadata": {},
   "source": [
    "#### Validating phone numbers"
   ]
  },
  {
   "cell_type": "code",
   "execution_count": 79,
   "metadata": {},
   "outputs": [
    {
     "name": "stdout",
     "output_type": "stream",
     "text": [
      "2\n",
      "987654321\n",
      "NO\n",
      "9087654321\n",
      "YES\n"
     ]
    }
   ],
   "source": [
    "def validPhoneNr(nr):\n",
    "    #loop over nr for different phone numbers\n",
    "    for i in range(nr):\n",
    "        string = input()\n",
    "        # initialize boolean\n",
    "        valid = False\n",
    "        # check length of string and first symbol and only numbers\n",
    "        if (string.isdecimal()) and (len(string) == 10) and (int(string[0]) == 7 or int(string[0]) == 8 or int(string[0]) == 9):\n",
    "            valid = True\n",
    "        # print yes or no\n",
    "        if valid:\n",
    "            print('YES')\n",
    "        else:\n",
    "            print('NO')\n",
    "\n",
    "n = int(input())\n",
    "PhoneNr = validPhoneNr(n)\n",
    "\n"
   ]
  },
  {
   "cell_type": "markdown",
   "metadata": {},
   "source": [
    "#### Validating and Parsing Email Addresses"
   ]
  },
  {
   "cell_type": "code",
   "execution_count": null,
   "metadata": {},
   "outputs": [],
   "source": [
    "import re\n",
    "\n",
    "# symbols and pattern used\n",
    "symbols = re.compile(r\"<[a-z][a-zA-Z0-9\\-\\.\\_]+\\@[a-zA-Z]+\\.[a-zA-Z]{1,3}>\")\n",
    "\n",
    "\n",
    "for i in range(int(input())):\n",
    "    mail = input().split()\n",
    "    # check if pattern matches email\n",
    "    patternTrue = symbols.search(mail[1])\n",
    "    if patternTrue:\n",
    "        print(mail[0], patternTrue.string)"
   ]
  },
  {
   "cell_type": "markdown",
   "metadata": {},
   "source": [
    "#### Hex Color Code"
   ]
  },
  {
   "cell_type": "code",
   "execution_count": null,
   "metadata": {},
   "outputs": [],
   "source": [
    "import re\n",
    "\n",
    "# symbols\n",
    "symbols = re.compile(r\"[\\s:](#[0-9A-Fa-f]{3,6})\")\n",
    "n = int(input())\n",
    "\n",
    "# loop over the input range\n",
    "for i in range(n):\n",
    "    string = input()\n",
    "    colors = symbols.findall(string)\n",
    "    for i in colors:\n",
    "        print(i)"
   ]
  },
  {
   "cell_type": "markdown",
   "metadata": {},
   "source": [
    "#### HTML Parser - Part 1"
   ]
  },
  {
   "cell_type": "code",
   "execution_count": null,
   "metadata": {},
   "outputs": [],
   "source": [
    "from html.parser import HTMLParser\n",
    "\n",
    "# code is based on the notes of the exercise\n",
    "class MyHTMLParser(HTMLParser):\n",
    "    def handle_starttag(self, tag, attrs):\n",
    "        print ('Start :', tag)\n",
    "        for i in attrs:\n",
    "            print(f\"-> {i[0]} > {i[1]}\")\n",
    "    def handle_endtag(self, tag):\n",
    "        print ('End   :', tag)\n",
    "    def handle_startendtag(self, tag, attrs):\n",
    "        print ('Empty :',tag)\n",
    "        for i in attrs:\n",
    "            print(f\"-> {i[0]} > {i[1]}\")\n",
    "\n",
    "            \n",
    "Nlines = int(input())    \n",
    "parser = MyHTMLParser();\n",
    "\n",
    "# print the lines and apply the MyHTMLParser\n",
    "for i in range(Nlines):\n",
    "    parser.feed(input())"
   ]
  },
  {
   "cell_type": "markdown",
   "metadata": {},
   "source": [
    "#### HTML Parser - Part 2"
   ]
  },
  {
   "cell_type": "code",
   "execution_count": null,
   "metadata": {},
   "outputs": [],
   "source": [
    "rom html.parser import HTMLParser\n",
    "import re\n",
    "\n",
    "class MyHTMLParser(HTMLParser):\n",
    "    def handle_comment(self,data):\n",
    "        # check for comments multi line\n",
    "        if re.search(r\"\\n\",data):\n",
    "            print(\">>> Multi-line Comment\")\n",
    "            print(data.rstrip())\n",
    "        # otherwise the comment is single line\n",
    "        else:\n",
    "            print(\">>> Single-line Comment\")\n",
    "            print(data.rstrip())\n",
    "    \n",
    "    # if the data is not '\\n'\n",
    "    def handle_data(self,data):\n",
    "        if data != '\\n':\n",
    "            print(\">>> Data\")\n",
    "            print(re.sub('\\n','',data))\n",
    "\n",
    "html = \"\"       \n",
    "for i in range(int(input())):\n",
    "    html += input().rstrip()\n",
    "    html += '\\n'\n",
    "    \n",
    "parser = MyHTMLParser()\n",
    "parser.feed(html)\n",
    "parser.close()"
   ]
  },
  {
   "cell_type": "markdown",
   "metadata": {},
   "source": [
    "#### Detect HTML Tags, Attributes and Attribute Values"
   ]
  },
  {
   "cell_type": "code",
   "execution_count": null,
   "metadata": {},
   "outputs": [],
   "source": [
    "from html.parser import HTMLParser\n",
    "\n",
    "class MyHTMLParser(HTMLParser):\n",
    "    def handle_starttag(self,label,attrs):\n",
    "        print(label)\n",
    "        for element in attrs:\n",
    "            print('->',element[0],'>',element[1])\n",
    "   \n",
    " \n",
    "parser = MyHTMLParser()\n",
    "for _ in range(int(input())):\n",
    "    parser.feed(input())"
   ]
  },
  {
   "cell_type": "markdown",
   "metadata": {},
   "source": [
    "#### Validating UID"
   ]
  },
  {
   "cell_type": "code",
   "execution_count": null,
   "metadata": {},
   "outputs": [],
   "source": [
    "import re \n",
    "   \n",
    "def validString(nr):\n",
    "    # loop over the numbers and make a string\n",
    "    for i in range(nr):\n",
    "        string = input()\n",
    "        # check if conditions are met\n",
    "        if (len(string) == 10 and len(set(re.findall(\"\\w\",string))) == 10 \n",
    "                and re.search(\"[^\\w]\", string) is None and len(re.findall(\"\\d\", string)) >= 3 and\n",
    "                len(re.findall(\"[A-Z]\",string)) >= 2):\n",
    "            print('Valid')\n",
    "        else:\n",
    "            print(\"Invalid\")\n",
    "    \n",
    "    \n",
    "\n",
    "nr = int(input())\n",
    "validString(nr)\n"
   ]
  },
  {
   "cell_type": "markdown",
   "metadata": {},
   "source": [
    "#### Validating Credit Card Numbers"
   ]
  },
  {
   "cell_type": "code",
   "execution_count": 151,
   "metadata": {},
   "outputs": [
    {
     "name": "stdout",
     "output_type": "stream",
     "text": [
      "1\n",
      "5123-4567-8912-3456\n",
      "5123456789123456\n",
      "Valid\n"
     ]
    }
   ],
   "source": [
    "def validateCreditcard(nr):\n",
    "    # loop over the number and make strings\n",
    "    for i in range(nr):\n",
    "        stringCC = input()\n",
    "        #remove hyphen if in string\n",
    "        #initialize x\n",
    "        x = 0\n",
    "        n = 4\n",
    "        for i in stringCC:\n",
    "            if x % n == 0 and i == '-' and not stringCC[x+1] == '-':\n",
    "                lst = list(stringCC)\n",
    "                lst[x] = ''\n",
    "                stringCC = ''.join(lst)\n",
    "                x -= 1\n",
    "            x += 1\n",
    "        \n",
    "        # check if conditions are met\n",
    "        if (stringCC[0] in '456' and len(stringCC) == 16\n",
    "                and stringCC.isdecimal() and not any([str(i*1111) in stringCC for i in range(10)])):\n",
    "            print('Valid')\n",
    "        else:\n",
    "            print('Invalid')\n",
    "            \n",
    "\n",
    "nr = int(input())\n",
    "validateCreditcard(nr)"
   ]
  },
  {
   "cell_type": "markdown",
   "metadata": {},
   "source": [
    "#### Validating Postal Codes"
   ]
  },
  {
   "cell_type": "code",
   "execution_count": null,
   "metadata": {},
   "outputs": [],
   "source": [
    "regex_integer_in_range = r\"^[1-9]\\d{5}$\"\t# Do not delete 'r'.\n",
    "regex_alternating_repetitive_digit_pair = r\"(?=(\\d).\\1)\"\t# Do not delete 'r'.\n",
    "\n",
    "\n",
    "import re\n",
    "P = input()\n",
    "\n",
    "print (bool(re.match(regex_integer_in_range, P)) \n",
    "and len(re.findall(regex_alternating_repetitive_digit_pair, P)) < 2)"
   ]
  },
  {
   "cell_type": "markdown",
   "metadata": {},
   "source": [
    "#### Matrix Script"
   ]
  },
  {
   "cell_type": "code",
   "execution_count": null,
   "metadata": {},
   "outputs": [],
   "source": [
    "#!/bin/python3\n",
    "\n",
    "import math\n",
    "import os\n",
    "import random\n",
    "import re\n",
    "import sys\n",
    "\n",
    "\n",
    "def findStringInMatrix(matrix):\n",
    "    # make a list of the matrix\n",
    "    lstMatrix = list(zip(*matrix))\n",
    "    # Start an empty string\n",
    "    string = \"\"\n",
    "    # loop over the list\n",
    "    for i in range(len(lstMatrix)):\n",
    "        # add to the string\n",
    "        string += \"\".join(lstMatrix[i])\n",
    "    # make the pattern\n",
    "    symbols = re.compile(r\"(?<=\\w)[!@#$%& ]{1,}(?=\\s*\\w)\")\n",
    "    # adjust string based on the pattern\n",
    "    finalString = re.sub(symbols,\" \",string)\n",
    "    return finalString\n",
    "    \n",
    "\n",
    "\n",
    "first_multiple_input = input().rstrip().split()\n",
    "\n",
    "n = int(first_multiple_input[0])\n",
    "\n",
    "m = int(first_multiple_input[1])\n",
    "\n",
    "matrix = []\n",
    "\n",
    "for _ in range(n):\n",
    "    matrix_item = input()\n",
    "    matrix.append(matrix_item)\n",
    "\n",
    "\n",
    "print(findStringInMatrix(matrix))"
   ]
  },
  {
   "cell_type": "markdown",
   "metadata": {},
   "source": [
    "## XML \n",
    "#### (used the discussion page for XML)"
   ]
  },
  {
   "cell_type": "markdown",
   "metadata": {},
   "source": [
    "#### XML1 - Find the score"
   ]
  },
  {
   "cell_type": "code",
   "execution_count": 81,
   "metadata": {},
   "outputs": [
    {
     "ename": "ParseError",
     "evalue": "no element found: line 1, column 0 (<string>)",
     "output_type": "error",
     "traceback": [
      "Traceback \u001b[1;36m(most recent call last)\u001b[0m:\n",
      "  File \u001b[0;32m\"C:\\Users\\Cindy\\anaconda3\\lib\\site-packages\\IPython\\core\\interactiveshell.py\"\u001b[0m, line \u001b[0;32m3418\u001b[0m, in \u001b[0;35mrun_code\u001b[0m\n    exec(code_obj, self.user_global_ns, self.user_ns)\n",
      "  File \u001b[0;32m\"<ipython-input-81-f532a293f7e4>\"\u001b[0m, line \u001b[0;32m11\u001b[0m, in \u001b[0;35m<module>\u001b[0m\n    tree = etree.ElementTree(etree.fromstring(xml))\n",
      "\u001b[1;36m  File \u001b[1;32m\"C:\\Users\\Cindy\\anaconda3\\lib\\xml\\etree\\ElementTree.py\"\u001b[1;36m, line \u001b[1;32m1321\u001b[1;36m, in \u001b[1;35mXML\u001b[1;36m\u001b[0m\n\u001b[1;33m    return parser.close()\u001b[0m\n",
      "\u001b[1;36m  File \u001b[1;32m\"<string>\"\u001b[1;36m, line \u001b[1;32munknown\u001b[0m\n\u001b[1;31mParseError\u001b[0m\u001b[1;31m:\u001b[0m no element found: line 1, column 0\n"
     ]
    }
   ],
   "source": [
    "import sys\n",
    "import xml.etree.ElementTree as etree\n",
    "\n",
    "def get_attr_number(node):\n",
    "    value = len(node.attrib) + sum([get_attr_number(i) for i in node])\n",
    "    return value\n",
    "\n",
    "if __name__ == '__main__':\n",
    "    sys.stdin.readline()\n",
    "    xml = sys.stdin.read()\n",
    "    tree = etree.ElementTree(etree.fromstring(xml))\n",
    "    root = tree.getroot()\n",
    "    print(get_attr_number(root))"
   ]
  },
  {
   "cell_type": "markdown",
   "metadata": {},
   "source": [
    "#### XML2 - Find the maximum depth"
   ]
  },
  {
   "cell_type": "code",
   "execution_count": null,
   "metadata": {},
   "outputs": [],
   "source": [
    "import xml.etree.ElementTree as etree\n",
    "\n",
    "maxdepth = 0\n",
    "\n",
    "def depth(elem, level):\n",
    "    # initialize the maxdepth\n",
    "    global maxdepth\n",
    "    # check the level. if it is same, add one to maxdpth\n",
    "    if (level == maxdepth):\n",
    "        maxdepth += 1\n",
    "    \n",
    "    #loop over the elements to add to level if needed\n",
    "    for i in elem:\n",
    "        depth(i, level + 1)\n",
    "    return level\n",
    "\n",
    "if __name__ == '__main__':\n",
    "    n = int(input())\n",
    "    xml = \"\"\n",
    "    for i in range(n):\n",
    "        xml =  xml + input() + \"\\n\"\n",
    "    tree = etree.ElementTree(etree.fromstring(xml))\n",
    "    depth(tree.getroot(), -1)\n",
    "    print(maxdepth)"
   ]
  },
  {
   "cell_type": "markdown",
   "metadata": {},
   "source": [
    "## Closures and decorations"
   ]
  },
  {
   "cell_type": "markdown",
   "metadata": {},
   "source": [
    "#### Standardize Mobile Number Using Decorators"
   ]
  },
  {
   "cell_type": "code",
   "execution_count": null,
   "metadata": {},
   "outputs": [],
   "source": [
    "def wrapper(f):\n",
    "    def fun(l):\n",
    "        # make an empty list\n",
    "        lst = []\n",
    "        # make sure that phone numbers are correct layout\n",
    "        for element in l:\n",
    "            lst.append('+91 '+element[-10:-5]+' '+ element[-5:])\n",
    "        # return the list so it can be sorted    \n",
    "        return f(lst)\n",
    "    return fun\n",
    "\n",
    "@wrapper\n",
    "def sort_phone(l):\n",
    "    print(*sorted(l), sep='\\n')\n",
    "\n",
    "if __name__ == '__main__':\n",
    "    l = [input() for _ in range(int(input()))]\n",
    "    sort_phone(l) \n",
    "\n",
    "\n"
   ]
  },
  {
   "cell_type": "markdown",
   "metadata": {},
   "source": [
    "#### Decorators 2 - Name Directory"
   ]
  },
  {
   "cell_type": "code",
   "execution_count": null,
   "metadata": {},
   "outputs": [],
   "source": [
    "import operator\n",
    "\n",
    "def person_lister(f):\n",
    "    def inner(people):\n",
    "        # sort the people\n",
    "        people.sort(key=lambda i: int(i[2]))\n",
    "        return [f(x) for x in people]\n",
    "    return inner\n",
    "\n",
    "@person_lister\n",
    "def name_format(person):\n",
    "    return (\"Mr. \" if person[3] == \"M\" else \"Ms. \") + person[0] + \" \" + person[1]\n",
    "\n",
    "if __name__ == '__main__':\n",
    "    people = [input().split() for i in range(int(input()))]\n",
    "    print(*name_format(people), sep='\\n')"
   ]
  },
  {
   "cell_type": "markdown",
   "metadata": {},
   "source": [
    "## Numpy"
   ]
  },
  {
   "cell_type": "markdown",
   "metadata": {},
   "source": [
    "#### Arrays"
   ]
  },
  {
   "cell_type": "code",
   "execution_count": 88,
   "metadata": {},
   "outputs": [
    {
     "name": "stdout",
     "output_type": "stream",
     "text": [
      "1 2 3 4 -8 -10\n",
      "[-10.  -8.   4.   3.   2.   1.]\n"
     ]
    }
   ],
   "source": [
    "import numpy as np\n",
    "\n",
    "def arrays(arr):\n",
    "    # make the numpy array\n",
    "    nparray =  np.array(arr,float)\n",
    "    # return the reverse\n",
    "    return np.flip(nparray)\n",
    "\n",
    "arr = input().strip().split(' ')\n",
    "result = arrays(arr)\n",
    "print(result)"
   ]
  },
  {
   "cell_type": "markdown",
   "metadata": {},
   "source": [
    "#### Shape and reshape"
   ]
  },
  {
   "cell_type": "code",
   "execution_count": 94,
   "metadata": {},
   "outputs": [
    {
     "name": "stdout",
     "output_type": "stream",
     "text": [
      "1 2 3 4 5 6 7 8 9\n",
      "[[1 2 3]\n",
      " [4 5 6]\n",
      " [7 8 9]]\n"
     ]
    }
   ],
   "source": [
    "\n",
    "def shapeArray(string):\n",
    "    nparray = numpy.fromstring(string, int, sep=' ')\n",
    "    shapedArray = numpy.reshape(nparray,(3,3))\n",
    "    return shapedArray\n",
    "\n",
    "n = input()\n",
    "print(shapeArray(n))"
   ]
  },
  {
   "cell_type": "markdown",
   "metadata": {},
   "source": [
    "#### Transpose and flatten"
   ]
  },
  {
   "cell_type": "code",
   "execution_count": 123,
   "metadata": {},
   "outputs": [
    {
     "name": "stdout",
     "output_type": "stream",
     "text": [
      "2 2\n",
      "1 2\n",
      "3 4\n",
      "[[1 3]\n",
      " [2 4]]\n",
      "[1 2 3 4]\n"
     ]
    }
   ],
   "source": [
    "def transAndFlat(rows, cols):\n",
    "    # make an empty array\n",
    "    arrayTF = np.zeros([rows, cols])\n",
    "    for i in range(rows):\n",
    "        # add the rows to np\n",
    "        arrayTF[i] = np.fromstring(input(), int, sep=' ')\n",
    "    \n",
    "    # print the transpose\n",
    "    print(arrayTF.T.astype(int))\n",
    "    #print the flatten\n",
    "    print(arrayTF.flatten().astype(int))\n",
    "        \n",
    "\n",
    "N, M = map(int, input().split())\n",
    "\n",
    "transAndFlat(N, M)"
   ]
  },
  {
   "cell_type": "markdown",
   "metadata": {},
   "source": [
    "#### Concatenate"
   ]
  },
  {
   "cell_type": "code",
   "execution_count": 131,
   "metadata": {},
   "outputs": [
    {
     "name": "stdout",
     "output_type": "stream",
     "text": [
      "4 3 2\n",
      "1 2\n",
      "1 2\n",
      "1 2\n",
      "1 2\n",
      "3 4\n",
      "3 4\n",
      "3 4\n",
      "[[1 2]\n",
      " [1 2]\n",
      " [1 2]\n",
      " [1 2]\n",
      " [3 4]\n",
      " [3 4]\n",
      " [3 4]]\n"
     ]
    }
   ],
   "source": [
    "def concatenate(row1, row2, col):\n",
    "    \n",
    "    # make two empty lists\n",
    "    arrN = []\n",
    "    arrM = []\n",
    "    \n",
    "   # make array N\n",
    "    for _ in range(row1):\n",
    "        arrN.append(np.array(list(map(int, input().split()))))\n",
    "        \n",
    "    #make array M\n",
    "    for _ in range(row2):\n",
    "        arrM.append(np.array(list(map(int, input().split()))))\n",
    "    \n",
    "    # concatenate\n",
    "    combined = np.concatenate((arrN, arrM), axis=0)\n",
    "    \n",
    "    return combined\n",
    "\n",
    "N, M, P = map(int, input().split())\n",
    "print(concatenate(N, M, P))"
   ]
  },
  {
   "cell_type": "markdown",
   "metadata": {},
   "source": [
    "#### Zeros and ones"
   ]
  },
  {
   "cell_type": "code",
   "execution_count": 133,
   "metadata": {},
   "outputs": [
    {
     "name": "stdout",
     "output_type": "stream",
     "text": [
      "3 3 3\n",
      "[[0 0 0]\n",
      " [0 0 0]\n",
      " [0 0 0]\n",
      " [0 0 0]\n",
      " [0 0 0]\n",
      " [0 0 0]\n",
      " [0 0 0]\n",
      " [0 0 0]\n",
      " [0 0 0]\n",
      " [0 0 0]\n",
      " [0 0 0]\n",
      " [0 0 0]\n",
      " [1 1 1]\n",
      " [1 1 1]\n",
      " [1 1 1]\n",
      " [1 1 1]\n",
      " [1 1 1]\n",
      " [1 1 1]\n",
      " [1 1 1]\n",
      " [1 1 1]\n",
      " [1 1 1]\n",
      " [1 1 1]\n",
      " [1 1 1]\n",
      " [1 1 1]]\n"
     ]
    }
   ],
   "source": [
    "# 3 3 3\n",
    "def zeros_ones(row, col, rep):\n",
    "    # make zeros array\n",
    "    zeros0 = numpy.zeros((row, col), dtype = numpy.int)\n",
    "    # make ones array\n",
    "    ones1 = numpy.ones((row, col), dtype = numpy.int)\n",
    "    \n",
    "    # make first iteration\n",
    "    if rep >= 2:\n",
    "        zeros = np.concatenate((zeros0, zeros0), axis=0)\n",
    "        ones = np.concatenate((ones1, ones1), axis = 0)\n",
    "    \n",
    "    # concatenate everything\n",
    "    for i in range(rep-1):\n",
    "        zeros = np.concatenate((zeros, zeros0), axis=0)\n",
    "    \n",
    "    # concatenate everything\n",
    "    for i in range(rep-1):\n",
    "        ones = np.concatenate((ones, ones1), axis=0)\n",
    "        \n",
    "    return np.concatenate((zeros, ones), axis=0)\n",
    "    \n",
    "        \n",
    "row, col, repeat = map(int, input().split())\n",
    "print(zeros_ones(row, col, repeat))"
   ]
  },
  {
   "cell_type": "markdown",
   "metadata": {},
   "source": [
    "#### Eye and identity"
   ]
  },
  {
   "cell_type": "code",
   "execution_count": null,
   "metadata": {},
   "outputs": [],
   "source": [
    "row, col = map(int, input().split())\n",
    "np.set_printoptions(legacy = '1.13')\n",
    "print(np.eye(row, col, k = 0))"
   ]
  },
  {
   "cell_type": "markdown",
   "metadata": {},
   "source": [
    "#### Array mathematics"
   ]
  },
  {
   "cell_type": "code",
   "execution_count": 134,
   "metadata": {},
   "outputs": [
    {
     "name": "stdout",
     "output_type": "stream",
     "text": [
      "1 4\n",
      "1 2 3 4\n",
      "5 6 7 8\n",
      "[[ 6  8 10 12]]\n",
      "[[-4 -4 -4 -4]]\n",
      "[[ 5 12 21 32]]\n",
      "[[0 0 0 0]]\n",
      "[[1 2 3 4]]\n",
      "[[    1    64  2187 65536]]\n"
     ]
    }
   ],
   "source": [
    "N, M = np.array(input().split(), int)\n",
    "a = np.array([input().split() for i in range(N)], int)\n",
    "b = np.array([input().split() for i in range(N)], int)\n",
    "\n",
    "print(np.add(a, b))\n",
    "print(np.subtract(a, b))\n",
    "print(np.multiply(a, b))\n",
    "print(np.floor_divide(a, b))\n",
    "print(np.mod(a, b))\n",
    "print(np.power(a, b))"
   ]
  },
  {
   "cell_type": "markdown",
   "metadata": {},
   "source": [
    "#### Floor, Ceil and Rint"
   ]
  },
  {
   "cell_type": "code",
   "execution_count": 135,
   "metadata": {},
   "outputs": [
    {
     "name": "stdout",
     "output_type": "stream",
     "text": [
      "1 2 3 4 5 \n",
      "[ 1.  2.  3.  4.  5.]\n",
      "[ 1.  2.  3.  4.  5.]\n",
      "[ 1.  2.  3.  4.  5.]\n"
     ]
    }
   ],
   "source": [
    "np.set_printoptions(legacy='1.13')\n",
    "array = np.array(input().split(), float)\n",
    "\n",
    "print(np.floor(array))\n",
    "print(np.ceil(array))\n",
    "print(np.rint(array))"
   ]
  },
  {
   "cell_type": "markdown",
   "metadata": {},
   "source": [
    "#### Sum and Prod"
   ]
  },
  {
   "cell_type": "code",
   "execution_count": null,
   "metadata": {},
   "outputs": [],
   "source": [
    "n, m = map(int, input().split())\n",
    "\n",
    "array = np.array([list(map(int, input().split())) for _ in range(n)])\n",
    "\n",
    "sumarray = np.sum(array, axis=0)\n",
    "print(np.prod(sumarray))"
   ]
  },
  {
   "cell_type": "markdown",
   "metadata": {},
   "source": [
    "#### Min and Max"
   ]
  },
  {
   "cell_type": "code",
   "execution_count": 137,
   "metadata": {},
   "outputs": [
    {
     "name": "stdout",
     "output_type": "stream",
     "text": [
      "2 2\n",
      "1 2\n",
      "3 4\n",
      "3\n"
     ]
    }
   ],
   "source": [
    "n, m = map(int, input().split())\n",
    "array = np.array([list(map(int, input().split())) for _ in range(n)])\n",
    "minarray = np.min(array, axis=1)\n",
    "print(np.max(minarray))"
   ]
  },
  {
   "cell_type": "markdown",
   "metadata": {},
   "source": [
    "#### Mean, Var, and Std"
   ]
  },
  {
   "cell_type": "code",
   "execution_count": 143,
   "metadata": {},
   "outputs": [
    {
     "name": "stdout",
     "output_type": "stream",
     "text": [
      "1 2\n",
      "2 \n",
      "[ 2.]\n",
      "[ 0.]\n",
      "0\n"
     ]
    }
   ],
   "source": [
    "n, m = map(int,input().split())\n",
    "\n",
    "array = np.array([list(map(int,input().split())) for _ in range(n)])\n",
    "\n",
    "print(np.mean(array,1))\n",
    "print(np.var(array,0))\n",
    "print(round(np.std(array),11))\n",
    "\n"
   ]
  },
  {
   "cell_type": "markdown",
   "metadata": {},
   "source": [
    "#### Dot and cross"
   ]
  },
  {
   "cell_type": "code",
   "execution_count": null,
   "metadata": {},
   "outputs": [],
   "source": [
    "n = int(input())\n",
    "arrayA = np.array([list(map(int, input().split())) for _ in range (n)])\n",
    "arrayB = np.array([list(map(int, input().split())) for _ in range (n)])\n",
    "print(np.dot(arrayA,arrayB))"
   ]
  },
  {
   "cell_type": "markdown",
   "metadata": {},
   "source": [
    "#### Inner and outer"
   ]
  },
  {
   "cell_type": "code",
   "execution_count": null,
   "metadata": {},
   "outputs": [],
   "source": [
    "arrayA = np.array(list(map(int, input().split())))\n",
    "arrayB = np.array(list(map(int, input().split())))\n",
    "print(np.inner(arrayA,arrayB))\n",
    "print(np.outer(arrayA,arrayB))"
   ]
  },
  {
   "cell_type": "markdown",
   "metadata": {},
   "source": [
    "#### Polynomials"
   ]
  },
  {
   "cell_type": "code",
   "execution_count": null,
   "metadata": {},
   "outputs": [],
   "source": [
    "P = list(map(float, input().split()))\n",
    "x = int(input())\n",
    "\n",
    "print(np.polyval(P, x))"
   ]
  },
  {
   "cell_type": "markdown",
   "metadata": {},
   "source": [
    "#### Linear algebra"
   ]
  },
  {
   "cell_type": "code",
   "execution_count": null,
   "metadata": {},
   "outputs": [],
   "source": [
    "N = int(input())\n",
    "array = [list(map(float, input().split())) for _ in range(N)]\n",
    "print(round(np.linalg.det(array),2))"
   ]
  }
 ],
 "metadata": {
  "kernelspec": {
   "display_name": "Python 3",
   "language": "python",
   "name": "python3"
  },
  "language_info": {
   "codemirror_mode": {
    "name": "ipython",
    "version": 3
   },
   "file_extension": ".py",
   "mimetype": "text/x-python",
   "name": "python",
   "nbconvert_exporter": "python",
   "pygments_lexer": "ipython3",
   "version": "3.8.5"
  }
 },
 "nbformat": 4,
 "nbformat_minor": 4
}
