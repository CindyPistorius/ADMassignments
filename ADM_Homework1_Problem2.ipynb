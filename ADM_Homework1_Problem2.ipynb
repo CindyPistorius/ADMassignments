{
 "cells": [
  {
   "cell_type": "markdown",
   "metadata": {},
   "source": [
    "# Homework 1 problem 2"
   ]
  },
  {
   "cell_type": "markdown",
   "metadata": {},
   "source": [
    "## Birthday cake candles"
   ]
  },
  {
   "cell_type": "code",
   "execution_count": 6,
   "metadata": {},
   "outputs": [
    {
     "name": "stdout",
     "output_type": "stream",
     "text": [
      "5\n",
      "1 4 2 3 4\n",
      "4\n",
      "candles 1 4\n",
      "candles 4 4\n",
      "candles 2 2\n",
      "candles 3 3\n",
      "candles 4 4\n",
      "3\n"
     ]
    }
   ],
   "source": [
    "#!/bin/python3\n",
    "\n",
    "import math\n",
    "import os\n",
    "import random\n",
    "import re\n",
    "import sys\n",
    "\n",
    "#\n",
    "# Complete the 'birthdayCakeCandles' function below.\n",
    "#\n",
    "# The function is expected to return an INTEGER.\n",
    "# The function accepts INTEGER_ARRAY candles as parameter.\n",
    "#\n",
    "\n",
    "def birthdayCakeCandles(candles):\n",
    "    \n",
    "    # initialize counter and max length\n",
    "    counter = 0\n",
    "    maxlength = max(candles)\n",
    "    print(maxlength)\n",
    "    \n",
    "    # loop over the array and add the candle if it is the max\n",
    "    for i in candles:\n",
    "        if i == maxlength:\n",
    "            counter += 1\n",
    "    \n",
    "    return counter\n",
    "    \n",
    "\n",
    "if __name__ == '__main__':\n",
    "    fptr = open(os.environ['OUTPUT_PATH'], 'w')\n",
    "\n",
    "    candles_count = int(input().strip())\n",
    "\n",
    "    candles = list(map(int, input().rstrip().split()))\n",
    "\n",
    "    result = birthdayCakeCandles(candles)\n",
    "    fptr.write(str(result) + '\\n')\n",
    "\n",
    "    fptr.close()\n"
   ]
  },
  {
   "cell_type": "markdown",
   "metadata": {},
   "source": [
    "## Kangaroo: Number line jumps"
   ]
  },
  {
   "cell_type": "code",
   "execution_count": 18,
   "metadata": {},
   "outputs": [
    {
     "name": "stdout",
     "output_type": "stream",
     "text": [
      "0 2 3 5\n",
      "NO\n"
     ]
    }
   ],
   "source": [
    "#equation is\n",
    "#x1 + (jump * v1) = x2 + (jump * v2)\n",
    "#This leads to:\n",
    "#(x1 - x2)/ (v2-v1) = jump\n",
    "# this must be integer to be solvable\n",
    "\n",
    "\n",
    "\n",
    "import math\n",
    "import os\n",
    "import random\n",
    "import re\n",
    "import sys\n",
    "\n",
    "#\n",
    "# Complete the 'kangaroo' function below.\n",
    "#\n",
    "# The function is expected to return a STRING.\n",
    "# The function accepts following parameters:\n",
    "#  1. INTEGER x1\n",
    "#  2. INTEGER v1\n",
    "#  3. INTEGER x2\n",
    "#  4. INTEGER v2\n",
    "#\n",
    "\n",
    "def kangaroo(x1, v1, x2, v2):\n",
    "    # check if v2 and v1 are not the same\n",
    "    if v2 == v1 and x1 != x2:\n",
    "        return 'NO'\n",
    "    # calculate jump\n",
    "    jump = (x1 - x2) / (v2 -v1)\n",
    "    if jump.is_integer() and (jump >= 0): \n",
    "        result = 'YES'\n",
    "    else:\n",
    "        result = 'NO'\n",
    "    return result\n",
    "\n",
    "if __name__ == '__main__':\n",
    "    #fptr = open(os.environ['OUTPUT_PATH'], 'w')\n",
    "\n",
    "    first_multiple_input = input().rstrip().split()\n",
    "\n",
    "    x1 = int(first_multiple_input[0])\n",
    "\n",
    "    v1 = int(first_multiple_input[1])\n",
    "\n",
    "    x2 = int(first_multiple_input[2])\n",
    "\n",
    "    v2 = int(first_multiple_input[3])\n",
    "\n",
    "    result = kangaroo(x1, v1, x2, v2)\n",
    "    \n",
    "    print(result)\n",
    "    #fptr.write(result + '\\n')\n",
    "\n",
    "    #fptr.close()\n",
    "\n",
    "\n",
    "\n"
   ]
  },
  {
   "cell_type": "markdown",
   "metadata": {},
   "source": [
    "## Viral advertising"
   ]
  },
  {
   "cell_type": "code",
   "execution_count": 20,
   "metadata": {},
   "outputs": [
    {
     "name": "stdout",
     "output_type": "stream",
     "text": [
      "3\n",
      "totalShared 9\n",
      "None\n"
     ]
    }
   ],
   "source": [
    "#!/bin/python3\n",
    "\n",
    "import math\n",
    "import os\n",
    "import random\n",
    "import re\n",
    "import sys\n",
    "\n",
    "#\n",
    "# Complete the 'viralAdvertising' function below.\n",
    "#\n",
    "# The function is expected to return an INTEGER.\n",
    "# The function accepts INTEGER n as parameter.\n",
    "#\n",
    "\n",
    "def viralAdvertising(n):\n",
    "    # initialize total likes, total people received\n",
    "    totalLiked = 0\n",
    "    totalReceived = 5\n",
    "    \n",
    "    # loop over the days\n",
    "    for day in range(n):\n",
    "        totalLiked += math.floor(totalReceived/2)\n",
    "        totalReceived = 3 * math.floor(totalReceived/2)\n",
    "    \n",
    "    return totalLiked\n",
    "    \n",
    "    \n",
    "\n",
    "if __name__ == '__main__':\n",
    "    fptr = open(os.environ['OUTPUT_PATH'], 'w')\n",
    "\n",
    "    n = int(input().strip())\n",
    "\n",
    "    result = viralAdvertising(n)\n",
    "    print(result)\n",
    "\n",
    "    fptr.write(str(result) + '\\n')\n",
    "\n",
    "    fptr.close()\n"
   ]
  },
  {
   "cell_type": "markdown",
   "metadata": {},
   "source": [
    "## Recursive digit sum"
   ]
  },
  {
   "cell_type": "code",
   "execution_count": 34,
   "metadata": {},
   "outputs": [
    {
     "name": "stdout",
     "output_type": "stream",
     "text": [
      "148 3\n",
      "148148148\n",
      "39\n",
      "12\n",
      "3\n",
      "3\n"
     ]
    }
   ],
   "source": [
    "#!/bin/python3\n",
    "\n",
    "import math\n",
    "import os\n",
    "import random\n",
    "import re\n",
    "import sys\n",
    "\n",
    "#\n",
    "# Complete the 'superDigit' function below.\n",
    "#\n",
    "# The function is expected to return an INTEGER.\n",
    "# The function accepts following parameters:\n",
    "#  1. STRING n\n",
    "#  2. INTEGER k\n",
    "#\n",
    "\n",
    "def superDigit(n, k):\n",
    "    # make new string\n",
    "    completeStr = n\n",
    "    \n",
    "    # test if loop is necessary\n",
    "    while len(completeStr) > 1:\n",
    "         \n",
    "        # find the sum\n",
    "        completeStr = str(sum(int(x) for x in completeStr if x.isdigit()))\n",
    "    \n",
    "    # now do the same times k\n",
    "    completeStr = completeStr * k\n",
    "    \n",
    "    # test if loop is necessary\n",
    "    while len(completeStr) > 1:\n",
    "         \n",
    "        # find the sum\n",
    "        completeStr = str(sum(int(x) for x in completeStr if x.isdigit()))\n",
    "    \n",
    "    #return the superdigit\n",
    "    return completeStr\n",
    "        \n",
    "            \n",
    "\n",
    "if __name__ == '__main__':\n",
    "    fptr = open(os.environ['OUTPUT_PATH'], 'w')\n",
    "\n",
    "    first_multiple_input = input().rstrip().split()\n",
    "\n",
    "    n = first_multiple_input[0]\n",
    "\n",
    "    k = int(first_multiple_input[1])\n",
    "\n",
    "    result = superDigit(n, k)\n",
    "\n",
    "    fptr.write(str(result) + '\\n')\n",
    "\n",
    "    fptr.close()\n"
   ]
  },
  {
   "cell_type": "markdown",
   "metadata": {},
   "source": [
    "## Insertion sort 1"
   ]
  },
  {
   "cell_type": "code",
   "execution_count": 46,
   "metadata": {},
   "outputs": [
    {
     "name": "stdout",
     "output_type": "stream",
     "text": [
      "5\n",
      "2 4 6 8 3\n",
      "2 4 6 8 8\n",
      "2 4 6 6 8\n",
      "2 4 4 6 8\n",
      "2 3 4 6 8\n"
     ]
    }
   ],
   "source": [
    "#!/bin/python3\n",
    "\n",
    "import math\n",
    "import os\n",
    "import random\n",
    "import re\n",
    "import sys\n",
    "\n",
    "#\n",
    "# Complete the 'insertionSort1' function below.\n",
    "#\n",
    "# The function accepts following parameters:\n",
    "#  1. INTEGER n\n",
    "#  2. INTEGER_ARRAY arr\n",
    "#\n",
    "\n",
    "def insertionSort1(n, arr):\n",
    "    # Write your code here\n",
    "    storedValue = arr[n-1]\n",
    "    \n",
    "    # loop over range of n \n",
    "    for value in range(n):\n",
    "        # check for case if value = n. exception\n",
    "        if value == n-1 or arr[n-value-2] < storedValue:\n",
    "            arr[n-value-1] = storedValue\n",
    "            print(*arr)\n",
    "            break\n",
    "        elif arr[n-value-2] >= storedValue:\n",
    "            arr[n-value-1] = arr[n-value-2]\n",
    "            print(*arr)\n",
    "        \n",
    "    \n",
    "if __name__ == '__main__':\n",
    "    n = int(input().strip())\n",
    "\n",
    "    arr = list(map(int, input().rstrip().split()))\n",
    "\n",
    "    insertionSort1(n, arr)\n"
   ]
  },
  {
   "cell_type": "markdown",
   "metadata": {},
   "source": [
    "## Insertion sort 2"
   ]
  },
  {
   "cell_type": "code",
   "execution_count": null,
   "metadata": {},
   "outputs": [],
   "source": [
    "1 4 3 5 6 2\n",
    "\n",
    "1 4 3 5 6 2 \n",
    "1 3 4 5 6 2 \n",
    "1 3 4 5 6 2 \n",
    "1 3 4 5 6 2 \n",
    "1 2 3 4 5 6 "
   ]
  },
  {
   "cell_type": "code",
   "execution_count": 55,
   "metadata": {},
   "outputs": [
    {
     "name": "stdout",
     "output_type": "stream",
     "text": [
      "4\n",
      "4 3 2 1\n",
      "value 0\n",
      "array 3 4 2 1\n",
      "3 4 2 1\n",
      "value 1\n",
      "array 3 2 4 1\n",
      "value 0\n",
      "array 2 3 4 1\n",
      "2 3 4 1\n",
      "value 2\n",
      "array 2 3 1 4\n",
      "value 1\n",
      "array 2 1 3 4\n",
      "value 0\n",
      "array 1 2 3 4\n",
      "1 2 3 4\n"
     ]
    }
   ],
   "source": [
    "#!/bin/python3\n",
    "\n",
    "import math\n",
    "import os\n",
    "import random\n",
    "import re\n",
    "import sys\n",
    "\n",
    "#\n",
    "# Complete the 'insertionSort2' function below.\n",
    "#\n",
    "# The function accepts following parameters:\n",
    "#  1. INTEGER n\n",
    "#  2. INTEGER_ARRAY arr\n",
    "#\n",
    "\n",
    "def insertionSort2(n, arr):\n",
    "    \n",
    "    # loop over the range of n, but start at 1 instead of 0\n",
    "    for counter in range(1,n):\n",
    "        value = counter\n",
    "        \n",
    "        # check if the value is smaller than previous value\n",
    "        while (arr[value] < arr[value-1]) and (value >= 1):\n",
    "            # swap the values\n",
    "            store = arr[value]\n",
    "            arr[value] = arr[value-1]\n",
    "            arr[value-1] = store\n",
    "            \n",
    "            # update the value to see if it needs to change another spot\n",
    "            value -= 1\n",
    "            \n",
    "        # after the while loop, print the array\n",
    "        print(*arr)\n",
    "    \n",
    "    \n",
    "    # Write your code here\n",
    "\n",
    "if __name__ == '__main__':\n",
    "    n = int(input().strip())\n",
    "\n",
    "    arr = list(map(int, input().rstrip().split()))\n",
    "\n",
    "    insertionSort2(n, arr)\n"
   ]
  }
 ],
 "metadata": {
  "kernelspec": {
   "display_name": "Python 3",
   "language": "python",
   "name": "python3"
  },
  "language_info": {
   "codemirror_mode": {
    "name": "ipython",
    "version": 3
   },
   "file_extension": ".py",
   "mimetype": "text/x-python",
   "name": "python",
   "nbconvert_exporter": "python",
   "pygments_lexer": "ipython3",
   "version": "3.8.5"
  }
 },
 "nbformat": 4,
 "nbformat_minor": 4
}
